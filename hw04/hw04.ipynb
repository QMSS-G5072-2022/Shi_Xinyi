{
 "cells": [
  {
   "cell_type": "markdown",
   "id": "19e49ce6",
   "metadata": {},
   "source": [
    "GR 5072 HW04"
   ]
  },
  {
   "cell_type": "markdown",
   "id": "5e307891",
   "metadata": {},
   "source": [
    "1. Create a book class"
   ]
  },
  {
   "cell_type": "code",
   "execution_count": 2,
   "id": "96e18d09",
   "metadata": {},
   "outputs": [],
   "source": [
    "class Book():\n",
    "    def __init__(self, title=\"\", author=\"\", genre=\"\", grade_level=int, pages=int):\n",
    "        self.title = title\n",
    "        self.author = author\n",
    "        self.genre = genre\n",
    "        self.grade_level= grade_level\n",
    "        self.pages = pages\n",
    "        \n",
    "    def __str__(self):\n",
    "        return f'\"The book {self.title} by {self.author} is a {self.genre} book for {self.grade_level} grade.\"'"
   ]
  },
  {
   "cell_type": "code",
   "execution_count": 3,
   "id": "33a9ccf7",
   "metadata": {},
   "outputs": [],
   "source": [
    "books = [\n",
    "    {\n",
    "        \"title\": \"The Hunger Games\",\n",
    "        \"author\": \"Suzanne Collins\",\n",
    "        \"genre\": \"Science Fiction\",\n",
    "        \"grade_level\": 7,\n",
    "        \"pages\": 374\n",
    "    },\n",
    "    {\n",
    "        \"title\": \"Harry Potter and the Sorcerer's Stone\",\n",
    "        \"author\": \"J.K. Rowling\",\n",
    "        \"genre\": \"Fantasy\",\n",
    "        \"grade_level\": 5,\n",
    "        \"pages\": 309\n",
    "    },\n",
    "    {\n",
    "        \"title\": \"To Kill a Mockingbird\",\n",
    "        \"author\": \"Harper Lee\",\n",
    "        \"genre\": \"Historical Fiction\",\n",
    "        \"grade_level\": 8,\n",
    "        \"pages\": 281\n",
    "    },\n",
    "    {\n",
    "        \"title\": \"Pride and Prejudice\",\n",
    "        \"author\": \"Jane Austen\",\n",
    "        \"genre\": \"Historical Fiction\",\n",
    "        \"grade_level\": 8,\n",
    "        \"pages\": 279\n",
    "    },\n",
    "    {\n",
    "        \"title\": \"Twilight\",\n",
    "        \"author\": \"Stephenie Meyer\",\n",
    "        \"genre\": \"Fantasy\",\n",
    "        \"grade_level\": 9,\n",
    "        \"pages\": 501\n",
    "    },\n",
    "    {\n",
    "        \"title\": \"The Great Gatsby\",\n",
    "        \"author\": \"F. Scott Fitzgerald\",\n",
    "        \"genre\": \"Historical Fiction\",\n",
    "        \"grade_level\": 10,\n",
    "        \"pages\": 180\n",
    "    },\n",
    "    {\n",
    "        \"title\": \"The Fault in Our Stars\",\n",
    "        \"author\": \"John Green\",\n",
    "        \"genre\": \"Science Fiction\",\n",
    "        \"grade_level\": 9,\n",
    "        \"pages\": 313\n",
    "    },\n",
    "    {\n",
    "        \"title\": \"The Book Thief\",\n",
    "        \"author\": \"Markus Zusak\",\n",
    "        \"genre\": \"Historical Fiction\",\n",
    "        \"grade_level\": 8,\n",
    "        \"pages\": 552\n",
    "    },\n",
    "    {\n",
    "        \"title\": \"The Hobbit\",\n",
    "        \"author\": \"J.R.R. Tolkien\",\n",
    "        \"genre\": \"Fantasy\",\n",
    "        \"grade_level\": 7,\n",
    "        \"pages\": 310\n",
    "    },\n",
    "    {\n",
    "        \"title\": \"The Catcher in the Rye\",\n",
    "        \"author\": \"J.D. Salinger\",\n",
    "        \"genre\": \"Historical Fiction\",\n",
    "        \"grade_level\": 10,\n",
    "        \"pages\": 277\n",
    "    }\n",
    "]"
   ]
  },
  {
   "cell_type": "markdown",
   "id": "a3735dc1",
   "metadata": {},
   "source": [
    "c"
   ]
  },
  {
   "cell_type": "code",
   "execution_count": 4,
   "id": "65b4fb6d",
   "metadata": {},
   "outputs": [],
   "source": [
    "k = [Book(i[\"title\"], i['author'], i['genre'], i['grade_level']) for i in books]"
   ]
  },
  {
   "cell_type": "markdown",
   "id": "097a4a50",
   "metadata": {},
   "source": [
    "d"
   ]
  },
  {
   "cell_type": "code",
   "execution_count": 5,
   "id": "8ca3e92a",
   "metadata": {},
   "outputs": [
    {
     "name": "stdout",
     "output_type": "stream",
     "text": [
      "\"The book The Hunger Games by Suzanne Collins is a Science Fiction book for 7 grade.\"\n"
     ]
    }
   ],
   "source": [
    "print(k[0])"
   ]
  },
  {
   "cell_type": "code",
   "execution_count": 6,
   "id": "69221b9e",
   "metadata": {},
   "outputs": [
    {
     "name": "stdout",
     "output_type": "stream",
     "text": [
      "\"The book Harry Potter and the Sorcerer's Stone by J.K. Rowling is a Fantasy book for 5 grade.\"\n"
     ]
    }
   ],
   "source": [
    "print(k[1])"
   ]
  },
  {
   "cell_type": "markdown",
   "id": "f6edfab3",
   "metadata": {},
   "source": [
    "2. Library Class"
   ]
  },
  {
   "cell_type": "markdown",
   "id": "aeb2d995",
   "metadata": {},
   "source": [
    "a"
   ]
  },
  {
   "cell_type": "code",
   "execution_count": 60,
   "id": "63ecfb57",
   "metadata": {},
   "outputs": [],
   "source": [
    "class Library:\n",
    "    def __init__(self,book_list,**kwargs):\n",
    "        self.lib = book_list \n",
    "\n",
    "    def print_all(self):\n",
    "        for b in self.lib:\n",
    "            print(b)\n",
    "\n",
    "    def genre_books(self,ge):\n",
    "        gen = []\n",
    "        for genre_book in self.lib:\n",
    "            if genre_book.genre == ge:\n",
    "                gen.append(genre_book)\n",
    "        for a in gen:\n",
    "            print(a)\n",
    "\n",
    "    def grade_books(self,gr):\n",
    "        grade = []\n",
    "        for grade_books in self.lib:\n",
    "            if grade_books.grade_level == gr:\n",
    "                grade.append(grade_books)\n",
    "        for i in grade:\n",
    "            print(i)\n",
    "            \n",
    "    def recommend_books(self,**kwargs):\n",
    "        re = []\n",
    "        ge = \"\"\n",
    "        gr_list = [1,2]\n",
    "        max_pages = 1000\n",
    "        for recommend_books in self.lib:\n",
    "            if recommend_books.genre == '':\n",
    "                continue\n",
    "            elif recommend_books.genre == kwargs['ge'] and recommend_books.grade_level == kwargs['gr_list'] and recommend_books.pages < kwargs['max_pages']:\n",
    "                re.append(recommend_books)\n",
    "        for i in re:\n",
    "            print(i)\n",
    "        "
   ]
  },
  {
   "cell_type": "markdown",
   "id": "456c514f",
   "metadata": {},
   "source": [
    "b"
   ]
  },
  {
   "cell_type": "code",
   "execution_count": 61,
   "id": "b6aa1c3f",
   "metadata": {},
   "outputs": [
    {
     "name": "stdout",
     "output_type": "stream",
     "text": [
      "\"The book The Hunger Games by Suzanne Collins is a Science Fiction book for 7 grade.\"\n",
      "\"The book Harry Potter and the Sorcerer's Stone by J.K. Rowling is a Fantasy book for 5 grade.\"\n",
      "\"The book To Kill a Mockingbird by Harper Lee is a Historical Fiction book for 8 grade.\"\n",
      "\"The book Pride and Prejudice by Jane Austen is a Historical Fiction book for 8 grade.\"\n",
      "\"The book Twilight by Stephenie Meyer is a Fantasy book for 9 grade.\"\n",
      "\"The book The Great Gatsby by F. Scott Fitzgerald is a Historical Fiction book for 10 grade.\"\n",
      "\"The book The Fault in Our Stars by John Green is a Science Fiction book for 9 grade.\"\n",
      "\"The book The Book Thief by Markus Zusak is a Historical Fiction book for 8 grade.\"\n",
      "\"The book The Hobbit by J.R.R. Tolkien is a Fantasy book for 7 grade.\"\n",
      "\"The book The Catcher in the Rye by J.D. Salinger is a Historical Fiction book for 10 grade.\"\n"
     ]
    }
   ],
   "source": [
    "lib = Library(k)\n",
    "lib.print_all()"
   ]
  },
  {
   "cell_type": "markdown",
   "id": "272af751",
   "metadata": {},
   "source": [
    "c"
   ]
  },
  {
   "cell_type": "code",
   "execution_count": 62,
   "id": "8577f31e",
   "metadata": {},
   "outputs": [
    {
     "name": "stdout",
     "output_type": "stream",
     "text": [
      "\"The book To Kill a Mockingbird by Harper Lee is a Historical Fiction book for 8 grade.\"\n",
      "\"The book Pride and Prejudice by Jane Austen is a Historical Fiction book for 8 grade.\"\n",
      "\"The book The Great Gatsby by F. Scott Fitzgerald is a Historical Fiction book for 10 grade.\"\n",
      "\"The book The Book Thief by Markus Zusak is a Historical Fiction book for 8 grade.\"\n",
      "\"The book The Catcher in the Rye by J.D. Salinger is a Historical Fiction book for 10 grade.\"\n"
     ]
    }
   ],
   "source": [
    "lib = Library(k)\n",
    "lib.genre_books ('Historical Fiction') "
   ]
  },
  {
   "cell_type": "markdown",
   "id": "bba2ee93",
   "metadata": {},
   "source": [
    "d"
   ]
  },
  {
   "cell_type": "code",
   "execution_count": 63,
   "id": "cbdd678f",
   "metadata": {},
   "outputs": [
    {
     "name": "stdout",
     "output_type": "stream",
     "text": [
      "\"The book Harry Potter and the Sorcerer's Stone by J.K. Rowling is a Fantasy book for 5 grade.\"\n",
      "\"The book The Hunger Games by Suzanne Collins is a Science Fiction book for 7 grade.\"\n",
      "\"The book The Hobbit by J.R.R. Tolkien is a Fantasy book for 7 grade.\"\n"
     ]
    }
   ],
   "source": [
    "lib.grade_books(5)\n",
    "lib.grade_books(7)"
   ]
  },
  {
   "cell_type": "markdown",
   "id": "f1babddc",
   "metadata": {},
   "source": [
    "e"
   ]
  },
  {
   "cell_type": "code",
   "execution_count": 64,
   "id": "4308ff3d",
   "metadata": {},
   "outputs": [],
   "source": [
    "lib.recommend_books(ge= '', gr=[8,9,10], max_pages = 300)"
   ]
  }
 ],
 "metadata": {
  "kernelspec": {
   "display_name": "Python 3 (ipykernel)",
   "language": "python",
   "name": "python3"
  },
  "language_info": {
   "codemirror_mode": {
    "name": "ipython",
    "version": 3
   },
   "file_extension": ".py",
   "mimetype": "text/x-python",
   "name": "python",
   "nbconvert_exporter": "python",
   "pygments_lexer": "ipython3",
   "version": "3.9.12"
  }
 },
 "nbformat": 4,
 "nbformat_minor": 5
}
