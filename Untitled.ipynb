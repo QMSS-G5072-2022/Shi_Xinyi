{
 "cells": [
  {
   "cell_type": "code",
   "execution_count": 1,
   "id": "faa7b4c4",
   "metadata": {},
   "outputs": [
    {
     "name": "stdout",
     "output_type": "stream",
     "text": [
      "* 3.5.2 (set by C:\\Users\\shixy\\.python-version)\n"
     ]
    }
   ],
   "source": [
    "!pyenv versions"
   ]
  },
  {
   "cell_type": "code",
   "execution_count": 2,
   "id": "04ad61ed",
   "metadata": {},
   "outputs": [
    {
     "name": "stdout",
     "output_type": "stream",
     "text": [
      "3.5.2\n"
     ]
    }
   ],
   "source": [
    "!pyenv global"
   ]
  },
  {
   "cell_type": "code",
   "execution_count": 3,
   "id": "9861ed40",
   "metadata": {},
   "outputs": [
    {
     "name": "stdout",
     "output_type": "stream",
     "text": [
      "3.5.2\n"
     ]
    }
   ],
   "source": [
    "!pyenv local"
   ]
  },
  {
   "cell_type": "code",
   "execution_count": 1,
   "id": "59e569b9",
   "metadata": {},
   "outputs": [
    {
     "name": "stdout",
     "output_type": "stream",
     "text": [
      "============================= test session starts ============================="
     ]
    },
    {
     "name": "stderr",
     "output_type": "stream",
     "text": [
      "ERROR: file or directory not found: versions\n",
      "\n"
     ]
    },
    {
     "name": "stdout",
     "output_type": "stream",
     "text": [
      "\n",
      "platform win32 -- Python 3.9.12, pytest-7.1.1, pluggy-1.0.0\n",
      "rootdir: C:\\Users\\shixy\\workspace\\Shi_Xinyi\n",
      "plugins: anyio-3.5.0\n",
      "collected 0 items\n",
      "\n",
      "============================ no tests ran in 0.04s ============================\n"
     ]
    }
   ],
   "source": [
    "!pytest versions"
   ]
  },
  {
   "cell_type": "code",
   "execution_count": null,
   "id": "778baaa8",
   "metadata": {},
   "outputs": [],
   "source": []
  }
 ],
 "metadata": {
  "kernelspec": {
   "display_name": "Python 3 (ipykernel)",
   "language": "python",
   "name": "python3"
  },
  "language_info": {
   "codemirror_mode": {
    "name": "ipython",
    "version": 3
   },
   "file_extension": ".py",
   "mimetype": "text/x-python",
   "name": "python",
   "nbconvert_exporter": "python",
   "pygments_lexer": "ipython3",
   "version": "3.9.12"
  }
 },
 "nbformat": 4,
 "nbformat_minor": 5
}
