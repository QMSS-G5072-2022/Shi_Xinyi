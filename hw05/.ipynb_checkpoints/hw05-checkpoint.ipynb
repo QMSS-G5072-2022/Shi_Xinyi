{
 "cells": [
  {
   "cell_type": "markdown",
   "id": "2038f2be",
   "metadata": {},
   "source": [
    "**GR 5072 - HW05**"
   ]
  },
  {
   "cell_type": "code",
   "execution_count": 1,
   "id": "1c15fb94",
   "metadata": {},
   "outputs": [],
   "source": [
    "import numpy as np\n",
    "import pandas as pd\n",
    "import matplotlib.pyplot as plt"
   ]
  },
  {
   "cell_type": "code",
   "execution_count": 2,
   "id": "9d0109e2",
   "metadata": {},
   "outputs": [
    {
     "data": {
      "text/html": [
       "<div>\n",
       "<style scoped>\n",
       "    .dataframe tbody tr th:only-of-type {\n",
       "        vertical-align: middle;\n",
       "    }\n",
       "\n",
       "    .dataframe tbody tr th {\n",
       "        vertical-align: top;\n",
       "    }\n",
       "\n",
       "    .dataframe thead th {\n",
       "        text-align: right;\n",
       "    }\n",
       "</style>\n",
       "<table border=\"1\" class=\"dataframe\">\n",
       "  <thead>\n",
       "    <tr style=\"text-align: right;\">\n",
       "      <th></th>\n",
       "      <th>Description</th>\n",
       "    </tr>\n",
       "  </thead>\n",
       "  <tbody>\n",
       "    <tr>\n",
       "      <th>0</th>\n",
       "      <td>10 MO F FELL OUT OF SHOPPING CART;DX FRACTURED...</td>\n",
       "    </tr>\n",
       "    <tr>\n",
       "      <th>1</th>\n",
       "      <td>75YOF WITH LAC TO FINGER FROM METAL CAN</td>\n",
       "    </tr>\n",
       "    <tr>\n",
       "      <th>2</th>\n",
       "      <td>8YOF FRACTURED FINGER FELL OFF HER BIKE</td>\n",
       "    </tr>\n",
       "    <tr>\n",
       "      <th>3</th>\n",
       "      <td>9 YOM TACKLED DURING FOOTBALL PRACTICE.  DX: C...</td>\n",
       "    </tr>\n",
       "    <tr>\n",
       "      <th>4</th>\n",
       "      <td>PT WAS HIT ON RT SIDE WHILE PLAYING FOOTBALL D...</td>\n",
       "    </tr>\n",
       "  </tbody>\n",
       "</table>\n",
       "</div>"
      ],
      "text/plain": [
       "                                         Description\n",
       "0  10 MO F FELL OUT OF SHOPPING CART;DX FRACTURED...\n",
       "1           75YOF WITH LAC TO FINGER FROM METAL CAN \n",
       "2           8YOF FRACTURED FINGER FELL OFF HER BIKE \n",
       "3  9 YOM TACKLED DURING FOOTBALL PRACTICE.  DX: C...\n",
       "4  PT WAS HIT ON RT SIDE WHILE PLAYING FOOTBALL D..."
      ]
     },
     "execution_count": 2,
     "metadata": {},
     "output_type": "execute_result"
    }
   ],
   "source": [
    "emergency = pd.read_csv(\"emergency.csv\")\n",
    "emergency.head()"
   ]
  },
  {
   "cell_type": "code",
   "execution_count": 3,
   "id": "693e8700",
   "metadata": {},
   "outputs": [
    {
     "data": {
      "text/plain": [
       "0       10 MO F FELL OUT OF SHOPPING CART;DX FRACTURED...\n",
       "1                75YOF WITH LAC TO FINGER FROM METAL CAN \n",
       "2                8YOF FRACTURED FINGER FELL OFF HER BIKE \n",
       "3       9 YOM TACKLED DURING FOOTBALL PRACTICE.  DX: C...\n",
       "4       PT WAS HIT ON RT SIDE WHILE PLAYING FOOTBALL D...\n",
       "                              ...                        \n",
       "9995    RT HIP STRAIN.9YOM WAS PLAYING FOOTBALL AND IN...\n",
       "9996    16 MO MALE FELL AND HIT HEAD ON A TRAIN TABLE....\n",
       "9997        RAN INTO TABLE, HIT FACE DX: FACIAL CONTUSION\n",
       "9998         81YOF-HUMERUS FX-FELL DOWN 3-4 STEPS-@ HOME \n",
       "9999    30YOM PUSHING TRASH DOWN INTO A GARBAGE CAN WI...\n",
       "Name: Description, Length: 10000, dtype: object"
      ]
     },
     "execution_count": 3,
     "metadata": {},
     "output_type": "execute_result"
    }
   ],
   "source": [
    "Description = emergency['Description']\n",
    "Description"
   ]
  },
  {
   "cell_type": "markdown",
   "id": "5296f663",
   "metadata": {},
   "source": [
    "a) Length of Narratives\n",
    "Read in the data. Find and display the longest and shortest description."
   ]
  },
  {
   "cell_type": "code",
   "execution_count": 49,
   "id": "3fb472d3",
   "metadata": {},
   "outputs": [
    {
     "name": "stdout",
     "output_type": "stream",
     "text": [
      "40YOM-C/O FOOT/HEEL PAIN RUNNIJNG BACKWARDS FELT TEARING SENSATION IN F OOT AFTER WARM UP EXERCISES FOR SOCCER  DX PLANTER FASCITIS ACUTE FLARE\n"
     ]
    }
   ],
   "source": [
    "print(max(Description, key = len))"
   ]
  },
  {
   "cell_type": "code",
   "execution_count": 52,
   "id": "1702d20d",
   "metadata": {},
   "outputs": [
    {
     "name": "stdout",
     "output_type": "stream",
     "text": [
      "ABR HIP ON FLOOR \n"
     ]
    }
   ],
   "source": [
    "print(min(Description, key = len))\n"
   ]
  },
  {
   "cell_type": "markdown",
   "id": "227d4cae",
   "metadata": {},
   "source": [
    "b) Fractures<br>\n",
    "Find all narratives related to \"fractures\". Try to include singular/plural/verb forms in your search. Also, FX is the medical abbreviation for fracture, so include that as well. How many fracture narratives can you find?"
   ]
  },
  {
   "cell_type": "code",
   "execution_count": 54,
   "id": "7cbf3258",
   "metadata": {},
   "outputs": [],
   "source": [
    "eme = pd.Series(emergency['Description'])"
   ]
  },
  {
   "cell_type": "code",
   "execution_count": 55,
   "id": "57f229c6",
   "metadata": {},
   "outputs": [
    {
     "data": {
      "text/plain": [
       "1510"
      ]
     },
     "execution_count": 55,
     "metadata": {},
     "output_type": "execute_result"
    }
   ],
   "source": [
    "Fract = sum(eme.str.contains('FRACT'))+ sum(eme.str.contains(r'FX'))\n",
    "Fract"
   ]
  },
  {
   "cell_type": "markdown",
   "id": "c2b0d68f",
   "metadata": {},
   "source": [
    "c) Body Parts<br>\n",
    "Among the fracture narratives, try to identify the body parts that are fractured (Note: Don't go overboard. A selection of parts is sufficient.). Make a histogram of fractured body parts (but make sure plural and singular forms are combined.)"
   ]
  },
  {
   "cell_type": "code",
   "execution_count": 56,
   "id": "0f8a95ec",
   "metadata": {},
   "outputs": [
    {
     "data": {
      "text/plain": [
       "36"
      ]
     },
     "execution_count": 56,
     "metadata": {},
     "output_type": "execute_result"
    }
   ],
   "source": [
    "hand = sum(eme.str.contains('HAND FX'))+ sum(eme.str.contains('HAND FRACT'))\n",
    "hand"
   ]
  },
  {
   "cell_type": "code",
   "execution_count": 57,
   "id": "f0846f47",
   "metadata": {},
   "outputs": [
    {
     "data": {
      "text/plain": [
       "30"
      ]
     },
     "execution_count": 57,
     "metadata": {},
     "output_type": "execute_result"
    }
   ],
   "source": [
    "elbow = sum(eme.str.contains('ELBOW FX'))+ sum(eme.str.contains('ELBOW FRACT'))\n",
    "elbow"
   ]
  },
  {
   "cell_type": "code",
   "execution_count": 58,
   "id": "6307f928",
   "metadata": {},
   "outputs": [
    {
     "data": {
      "text/plain": [
       "59"
      ]
     },
     "execution_count": 58,
     "metadata": {},
     "output_type": "execute_result"
    }
   ],
   "source": [
    "finger = sum(eme.str.contains('FINGER FX'))+ sum(eme.str.contains('FINGER FRACT'))\n",
    "finger"
   ]
  },
  {
   "cell_type": "code",
   "execution_count": 59,
   "id": "112c3cbd",
   "metadata": {},
   "outputs": [
    {
     "data": {
      "text/plain": [
       "16"
      ]
     },
     "execution_count": 59,
     "metadata": {},
     "output_type": "execute_result"
    }
   ],
   "source": [
    "bone = sum(eme.str.contains('BONE FX'))+ sum(eme.str.contains('BONE FRACT'))\n",
    "bone"
   ]
  },
  {
   "cell_type": "code",
   "execution_count": 60,
   "id": "89db55f0",
   "metadata": {},
   "outputs": [
    {
     "data": {
      "text/plain": [
       "<BarContainer object of 4 artists>"
      ]
     },
     "execution_count": 60,
     "metadata": {},
     "output_type": "execute_result"
    },
    {
     "data": {
      "image/png": "[encoded data removed]",
      "text/plain": [
       "<Figure size 720x360 with 1 Axes>"
      ]
     },
     "metadata": {
      "needs_background": "light"
     },
     "output_type": "display_data"
    }
   ],
   "source": [
    "data = {'hand':36, 'elbow':30, 'finger':59,\n",
    "        'bone':16}\n",
    "parts = list(data.keys())\n",
    "values = list(data.values())\n",
    "\n",
    "fig = plt.figure(figsize = (10, 5))\n",
    "\n",
    "plt.bar(parts, values, color ='maroon',\n",
    "        width = 0.4)"
   ]
  },
  {
   "cell_type": "markdown",
   "id": "44c8f3fc",
   "metadata": {},
   "source": [
    "d) Age and Gender"
   ]
  },
  {
   "cell_type": "code",
   "execution_count": 61,
   "id": "8535cdb1",
   "metadata": {},
   "outputs": [],
   "source": [
    "import regex as re"
   ]
  },
  {
   "cell_type": "code",
   "execution_count": 62,
   "id": "b8b745ce",
   "metadata": {},
   "outputs": [
    {
     "data": {
      "text/html": [
       "<div>\n",
       "<style scoped>\n",
       "    .dataframe tbody tr th:only-of-type {\n",
       "        vertical-align: middle;\n",
       "    }\n",
       "\n",
       "    .dataframe tbody tr th {\n",
       "        vertical-align: top;\n",
       "    }\n",
       "\n",
       "    .dataframe thead th {\n",
       "        text-align: right;\n",
       "    }\n",
       "</style>\n",
       "<table border=\"1\" class=\"dataframe\">\n",
       "  <thead>\n",
       "    <tr style=\"text-align: right;\">\n",
       "      <th></th>\n",
       "      <th>0</th>\n",
       "      <th>1</th>\n",
       "      <th>2</th>\n",
       "    </tr>\n",
       "  </thead>\n",
       "  <tbody>\n",
       "    <tr>\n",
       "      <th>0</th>\n",
       "      <td>10</td>\n",
       "      <td>MO</td>\n",
       "      <td>F</td>\n",
       "    </tr>\n",
       "    <tr>\n",
       "      <th>1</th>\n",
       "      <td>75</td>\n",
       "      <td>YO</td>\n",
       "      <td>F</td>\n",
       "    </tr>\n",
       "    <tr>\n",
       "      <th>2</th>\n",
       "      <td>8</td>\n",
       "      <td>YO</td>\n",
       "      <td>F</td>\n",
       "    </tr>\n",
       "    <tr>\n",
       "      <th>3</th>\n",
       "      <td>9</td>\n",
       "      <td>YO</td>\n",
       "      <td>M</td>\n",
       "    </tr>\n",
       "    <tr>\n",
       "      <th>5</th>\n",
       "      <td>9</td>\n",
       "      <td>YO</td>\n",
       "      <td>M</td>\n",
       "    </tr>\n",
       "  </tbody>\n",
       "</table>\n",
       "</div>"
      ],
      "text/plain": [
       "    0   1  2\n",
       "0  10  MO  F\n",
       "1  75  YO  F\n",
       "2   8  YO  F\n",
       "3   9  YO  M\n",
       "5   9  YO  M"
      ]
     },
     "execution_count": 62,
     "metadata": {},
     "output_type": "execute_result"
    }
   ],
   "source": [
    "age = emergency['Description'].str.extract(r'(\\d+)\\s*(Y/?O|YR|YEAR|MO)\\s*(F|M|FEMALE|MALE)')\n",
    "age = age.dropna()\n",
    "age.head()"
   ]
  },
  {
   "cell_type": "code",
   "execution_count": 63,
   "id": "c8fdba54",
   "metadata": {},
   "outputs": [
    {
     "data": {
      "text/plain": [
       "0    4580\n",
       "1    4580\n",
       "dtype: int64"
      ]
     },
     "execution_count": 63,
     "metadata": {},
     "output_type": "execute_result"
    }
   ],
   "source": [
    "age_male = emergency['Description'].str.extract(r'(Y|Y/?O|YR|YEAR|MO)\\s*(M|MALE)')\n",
    "age_male.dropna()\n",
    "age_male.count()"
   ]
  },
  {
   "cell_type": "code",
   "execution_count": 64,
   "id": "72659628",
   "metadata": {},
   "outputs": [
    {
     "data": {
      "text/plain": [
       "0    3548\n",
       "1    3548\n",
       "dtype: int64"
      ]
     },
     "execution_count": 64,
     "metadata": {},
     "output_type": "execute_result"
    }
   ],
   "source": [
    "age_female = emergency['Description'].str.extract(r'(Y|Y/?O|YR|YEAR|MO)\\s*(F|FEMALE)')\n",
    "age_female.dropna()\n",
    "age_female.count()"
   ]
  },
  {
   "cell_type": "markdown",
   "id": "f86aef3c",
   "metadata": {},
   "source": [
    "There are 4580 men and 3548 women in the data."
   ]
  },
  {
   "cell_type": "markdown",
   "id": "deadedde",
   "metadata": {},
   "source": [
    "Bonus regex crossword"
   ]
  },
  {
   "cell_type": "markdown",
   "id": "4bd9d9f4",
   "metadata": {},
   "source": [
    "1 = D, 2 = O, 3 = N, 4 = T, 5 = P, 6 = A, 7 = N, 8 = I , 9 = C"
   ]
  }
 ],
 "metadata": {
  "kernelspec": {
   "display_name": "Python 3 (ipykernel)",
   "language": "python",
   "name": "python3"
  },
  "language_info": {
   "codemirror_mode": {
    "name": "ipython",
    "version": 3
   },
   "file_extension": ".py",
   "mimetype": "text/x-python",
   "name": "python",
   "nbconvert_exporter": "python",
   "pygments_lexer": "ipython3",
   "version": "3.9.12"
  }
 },
 "nbformat": 4,
 "nbformat_minor": 5
}
