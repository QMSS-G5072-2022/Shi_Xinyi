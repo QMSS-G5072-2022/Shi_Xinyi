{
 "cells": [
  {
   "cell_type": "markdown",
   "id": "18d1161b",
   "metadata": {},
   "source": [
    "##HW03 Xinyi Shi"
   ]
  },
  {
   "cell_type": "markdown",
   "id": "4500750a",
   "metadata": {},
   "source": [
    "1. Cost of translation"
   ]
  },
  {
   "cell_type": "code",
   "execution_count": 2,
   "id": "e64556dd",
   "metadata": {},
   "outputs": [],
   "source": [
    "def cost_of_translation(num_of_words,what_type,rush):\n",
    "        if what_type == \"standard\":\n",
    "            cost = 0.05*num_of_words\n",
    "        else:\n",
    "            if what_type == \"certified\":\n",
    "                cost = 0.1*num_of_words\n",
    "            else:\n",
    "                cost = 0.12*num_of_words\n",
    "        if rush == True:\n",
    "            cost = 1.5*cost\n",
    "        else: \n",
    "            pass\n",
    "        return cost  "
   ]
  },
  {
   "cell_type": "code",
   "execution_count": 3,
   "id": "83598eef",
   "metadata": {},
   "outputs": [
    {
     "data": {
      "text/plain": [
       "50.0"
      ]
     },
     "execution_count": 3,
     "metadata": {},
     "output_type": "execute_result"
    }
   ],
   "source": [
    "cost_of_translation(1000,\"standard\",False)"
   ]
  },
  {
   "cell_type": "code",
   "execution_count": 4,
   "id": "9d10d787",
   "metadata": {},
   "outputs": [
    {
     "data": {
      "text/plain": [
       "float"
      ]
     },
     "execution_count": 4,
     "metadata": {},
     "output_type": "execute_result"
    }
   ],
   "source": [
    "type(cost_of_translation(1000,\"standard\",False))"
   ]
  },
  {
   "cell_type": "markdown",
   "id": "ae68c1d3",
   "metadata": {},
   "source": [
    "b."
   ]
  },
  {
   "cell_type": "code",
   "execution_count": 5,
   "id": "e12d9652",
   "metadata": {},
   "outputs": [],
   "source": [
    "def sales_tax(cost,tax_rate=0.1):\n",
    "    tax = tax_rate*cost\n",
    "    return tax"
   ]
  },
  {
   "cell_type": "code",
   "execution_count": 6,
   "id": "aaedb06e",
   "metadata": {},
   "outputs": [
    {
     "data": {
      "text/plain": [
       "50.0"
      ]
     },
     "execution_count": 6,
     "metadata": {},
     "output_type": "execute_result"
    }
   ],
   "source": [
    "cost_of_translation(1000,\"standard\",False)"
   ]
  },
  {
   "cell_type": "code",
   "execution_count": 7,
   "id": "7f939269",
   "metadata": {},
   "outputs": [
    {
     "data": {
      "text/plain": [
       "5.0"
      ]
     },
     "execution_count": 7,
     "metadata": {},
     "output_type": "execute_result"
    }
   ],
   "source": [
    "sales_tax(50)"
   ]
  },
  {
   "cell_type": "markdown",
   "id": "3adf47fe",
   "metadata": {},
   "source": [
    "c."
   ]
  },
  {
   "cell_type": "code",
   "execution_count": 8,
   "id": "6c647558",
   "metadata": {},
   "outputs": [],
   "source": [
    "def sales_tax_notary(what_type,cost,tax_rate=0.1):\n",
    "    if what_type == \"notarized\":\n",
    "        tax = 0\n",
    "    else:\n",
    "        tax = tax_rate*cost\n",
    "    return tax"
   ]
  },
  {
   "cell_type": "code",
   "execution_count": 9,
   "id": "7bdcce6f",
   "metadata": {},
   "outputs": [
    {
     "data": {
      "text/plain": [
       "120.0"
      ]
     },
     "execution_count": 9,
     "metadata": {},
     "output_type": "execute_result"
    }
   ],
   "source": [
    "cost_of_translation(1000,\"notarized\",False)"
   ]
  },
  {
   "cell_type": "code",
   "execution_count": 10,
   "id": "3f2bfa9a",
   "metadata": {},
   "outputs": [
    {
     "data": {
      "text/plain": [
       "0"
      ]
     },
     "execution_count": 10,
     "metadata": {},
     "output_type": "execute_result"
    }
   ],
   "source": [
    "sales_tax_notary(\"notarized\",120)"
   ]
  },
  {
   "cell_type": "markdown",
   "id": "f02e23a1",
   "metadata": {},
   "source": [
    "d."
   ]
  },
  {
   "cell_type": "code",
   "execution_count": 11,
   "id": "0ca099b1",
   "metadata": {},
   "outputs": [
    {
     "name": "stdout",
     "output_type": "stream",
     "text": [
      "Number of Words 1000\n",
      "Type of translation notarized\n",
      "Rush order: True\n",
      "Rate per word: 0.12\n",
      "--------------------------\n",
      "Cost of translation: 180.0\n"
     ]
    },
    {
     "ename": "TypeError",
     "evalue": "can't multiply sequence by non-int of type 'float'",
     "output_type": "error",
     "traceback": [
      "\u001b[1;31m---------------------------------------------------------------------------\u001b[0m",
      "\u001b[1;31mTypeError\u001b[0m                                 Traceback (most recent call last)",
      "Input \u001b[1;32mIn [11]\u001b[0m, in \u001b[0;36m<cell line: 17>\u001b[1;34m()\u001b[0m\n\u001b[0;32m     13\u001b[0m     total \u001b[38;5;241m=\u001b[39m tax\u001b[38;5;241m+\u001b[39mcost\n\u001b[0;32m     14\u001b[0m     \u001b[38;5;28mprint\u001b[39m(\u001b[38;5;124mf\u001b[39m\u001b[38;5;124m\"\u001b[39m\u001b[38;5;124mTotal cost: \u001b[39m\u001b[38;5;132;01m{\u001b[39;00m\u001b[38;5;28mfloat\u001b[39m(total)\u001b[38;5;132;01m}\u001b[39;00m\u001b[38;5;124m\"\u001b[39m)\n\u001b[1;32m---> 17\u001b[0m \u001b[43mtranslation_calculator\u001b[49m\u001b[43m(\u001b[49m\u001b[38;5;241;43m1000\u001b[39;49m\u001b[43m,\u001b[49m\u001b[38;5;124;43m'\u001b[39;49m\u001b[38;5;124;43mnotarized\u001b[39;49m\u001b[38;5;124;43m'\u001b[39;49m\u001b[43m,\u001b[49m\u001b[38;5;241;43m1\u001b[39;49m\u001b[43m)\u001b[49m\n",
      "Input \u001b[1;32mIn [11]\u001b[0m, in \u001b[0;36mtranslation_calculator\u001b[1;34m(num_of_words, tpe, rush, tax_rate)\u001b[0m\n\u001b[0;32m      8\u001b[0m cost \u001b[38;5;241m=\u001b[39m cost_of_translation(num_of_words,tpe,rush)\n\u001b[0;32m      9\u001b[0m \u001b[38;5;28mprint\u001b[39m(\u001b[38;5;124m'\u001b[39m\u001b[38;5;124mCost of translation:\u001b[39m\u001b[38;5;124m'\u001b[39m,cost)\n\u001b[1;32m---> 10\u001b[0m tax \u001b[38;5;241m=\u001b[39m \u001b[43msales_tax_notary\u001b[49m\u001b[43m(\u001b[49m\u001b[43mcost\u001b[49m\u001b[43m,\u001b[49m\u001b[43mtpe\u001b[49m\u001b[43m,\u001b[49m\u001b[43mtax_rate\u001b[49m\u001b[43m)\u001b[49m\n\u001b[0;32m     11\u001b[0m \u001b[38;5;28mprint\u001b[39m(\u001b[38;5;124m'\u001b[39m\u001b[38;5;124mSales tax:\u001b[39m\u001b[38;5;124m'\u001b[39m,tax)\n\u001b[0;32m     12\u001b[0m \u001b[38;5;28mprint\u001b[39m(\u001b[38;5;124mf\u001b[39m\u001b[38;5;124m\"\u001b[39m\u001b[38;5;124m---------------------------\u001b[39m\u001b[38;5;124m\"\u001b[39m) \n",
      "Input \u001b[1;32mIn [8]\u001b[0m, in \u001b[0;36msales_tax_notary\u001b[1;34m(what_type, cost, tax_rate)\u001b[0m\n\u001b[0;32m      3\u001b[0m     tax \u001b[38;5;241m=\u001b[39m \u001b[38;5;241m0\u001b[39m\n\u001b[0;32m      4\u001b[0m \u001b[38;5;28;01melse\u001b[39;00m:\n\u001b[1;32m----> 5\u001b[0m     tax \u001b[38;5;241m=\u001b[39m \u001b[43mtax_rate\u001b[49m\u001b[38;5;241;43m*\u001b[39;49m\u001b[43mcost\u001b[49m\n\u001b[0;32m      6\u001b[0m \u001b[38;5;28;01mreturn\u001b[39;00m tax\n",
      "\u001b[1;31mTypeError\u001b[0m: can't multiply sequence by non-int of type 'float'"
     ]
    }
   ],
   "source": [
    "def translation_calculator(num_of_words,tpe,rush,tax_rate=0.1):\n",
    "    rate = {'standard':0.05,'certified':0.1,'notarized':0.12}\n",
    "    print('Number of Words',num_of_words)\n",
    "    print('Type of translation',tpe)\n",
    "    print('Rush order:',bool(rush))\n",
    "    print('Rate per word:',rate[tpe])\n",
    "    print('--------------------------')\n",
    "    cost = cost_of_translation(num_of_words,tpe,rush)\n",
    "    print('Cost of translation:',cost)\n",
    "    tax = sales_tax_notary(cost,tpe,tax_rate)\n",
    "    print('Sales tax:',tax)\n",
    "    print(f\"---------------------------\") \n",
    "    total = tax+cost\n",
    "    print(f\"Total cost: {float(total)}\")\n",
    "    \n",
    "\n",
    "translation_calculator(1000,'notarized',1)"
   ]
  },
  {
   "cell_type": "code",
   "execution_count": 235,
   "id": "43c39aae",
   "metadata": {},
   "outputs": [],
   "source": [
    "def translation_calculator(num_of_words,**kwargs):\n",
    "    cost_of_trans = cost_of_translation(num_of_words,kwargs['what_type'],kwargs['rush'])\n",
    "    sales_tax = sales_tax_notary(kwargs['what_type'],cost = cost_of_trans,tax_rate=0.1)\n",
    "    total_cost = cost_of_translation(num_of_words,kwargs['what_type'],kwargs['rush']) + sales_tax_notary(kwargs['what_type'], cost = cost_of_trans,tax_rate=0.1)\n",
    "    \n",
    "    print('Number of words:', num_of_words)\n",
    "    print('Type of translation:',kwargs['what_type'])\n",
    "    print('Rush order:',kwargs['rush'])\n",
    "    if kwargs['what_type']==\"standard\":\n",
    "        print('Rate per Word:0.05')\n",
    "    else:\n",
    "        if kwargs['what_type']=='certified':\n",
    "            print('Rate per Word:0.1')\n",
    "        else:\n",
    "            if kwargs['what_type']==\"notarized\":\n",
    "                print('Rate per Word:0.12')\n",
    "    print('---------------------------')\n",
    "    \n",
    "    \n",
    "    print('Cost of translation:',cost_of_trans)\n",
    "    print('Sales tax:',sales_tax)\n",
    "    print('---------------------------')\n",
    "    \n",
    "    print('Total cost:',total_cost)"
   ]
  },
  {
   "cell_type": "code",
   "execution_count": 236,
   "id": "2c97022a",
   "metadata": {},
   "outputs": [
    {
     "name": "stdout",
     "output_type": "stream",
     "text": [
      "Number of words: 1000\n",
      "Type of translation: notarized\n",
      "Rush order: True\n",
      "Rate per Word:0.12\n",
      "---------------------------\n",
      "Cost of translation: 180.0\n",
      "Sales tax: 0\n",
      "---------------------------\n",
      "Total cost: 180.0\n"
     ]
    }
   ],
   "source": [
    "translation_calculator(1000,rush=True,what_type=\"notarized\")"
   ]
  },
  {
   "cell_type": "markdown",
   "id": "4c5eda3e",
   "metadata": {},
   "source": [
    "##2. Error handling"
   ]
  },
  {
   "cell_type": "markdown",
   "id": "be2fb7ec",
   "metadata": {},
   "source": [
    "a)"
   ]
  },
  {
   "cell_type": "code",
   "execution_count": 239,
   "id": "35a3cd59",
   "metadata": {},
   "outputs": [],
   "source": [
    "def translation_calculator(num_of_words,**kwargs):\n",
    "    assert num_of_words > 0, \"Only accept positive number of words\"\n",
    "    assert what_type == \"standard\" or what_type==\"certified\" or what_type==\"notarized\", \"Only accept valid types\"\n",
    "    cost_of_trans = cost_of_translation(num_of_words,kwargs['what_type'],kwargs['rush'])\n",
    "    sales_tax = sales_tax_notary(kwargs['what_type'],tax_rate=0.1)\n",
    "    total_cost = cost_of_translation(num_of_words,kwargs['what_type'],kwargs['rush']) + sales_tax_notary(kwargs['what_type'],tax_rate=0.1)\n",
    "    \n",
    "    print('Number of words:', num_of_words)\n",
    "    print('Type of translation:',kwargs['what_type'])\n",
    "    print('Rush order:',kwargs['rush'])\n",
    "    if kwargs['what_type']==\"standard\":\n",
    "        print('Rate per Word:0.05')\n",
    "    else:\n",
    "        if kwargs['what_type']=='certified':\n",
    "            print('Rate per Word:0.1')\n",
    "        else:\n",
    "            if kwargs['what_type']==\"notarized\":\n",
    "                print('Rate per Word:0.12')\n",
    "    print('---------------------------')\n",
    "    print('Cost of translation:',cost_of_trans)\n",
    "    print('Sales tax:',sales_tax)\n",
    "    print('---------------------------')\n",
    "    print('Total cost:',total_cost)"
   ]
  },
  {
   "cell_type": "code",
   "execution_count": 240,
   "id": "0d128d42",
   "metadata": {},
   "outputs": [
    {
     "ename": "AssertionError",
     "evalue": "Only accept positive number of words",
     "output_type": "error",
     "traceback": [
      "\u001b[1;31m---------------------------------------------------------------------------\u001b[0m",
      "\u001b[1;31mAssertionError\u001b[0m                            Traceback (most recent call last)",
      "Input \u001b[1;32mIn [240]\u001b[0m, in \u001b[0;36m<cell line: 1>\u001b[1;34m()\u001b[0m\n\u001b[1;32m----> 1\u001b[0m \u001b[43mtranslation_calculator\u001b[49m\u001b[43m(\u001b[49m\u001b[38;5;241;43m0\u001b[39;49m\u001b[43m,\u001b[49m\u001b[43mrush\u001b[49m\u001b[38;5;241;43m=\u001b[39;49m\u001b[38;5;28;43;01mTrue\u001b[39;49;00m\u001b[43m,\u001b[49m\u001b[43mwhat_type\u001b[49m\u001b[38;5;241;43m=\u001b[39;49m\u001b[38;5;124;43m\"\u001b[39;49m\u001b[38;5;124;43mnotarized\u001b[39;49m\u001b[38;5;124;43m\"\u001b[39;49m\u001b[43m)\u001b[49m\n",
      "Input \u001b[1;32mIn [239]\u001b[0m, in \u001b[0;36mtranslation_calculator\u001b[1;34m(num_of_words, **kwargs)\u001b[0m\n\u001b[0;32m      1\u001b[0m \u001b[38;5;28;01mdef\u001b[39;00m \u001b[38;5;21mtranslation_calculator\u001b[39m(num_of_words,\u001b[38;5;241m*\u001b[39m\u001b[38;5;241m*\u001b[39mkwargs):\n\u001b[1;32m----> 2\u001b[0m     \u001b[38;5;28;01massert\u001b[39;00m num_of_words \u001b[38;5;241m>\u001b[39m \u001b[38;5;241m0\u001b[39m, \u001b[38;5;124m\"\u001b[39m\u001b[38;5;124mOnly accept positive number of words\u001b[39m\u001b[38;5;124m\"\u001b[39m\n\u001b[0;32m      3\u001b[0m     \u001b[38;5;28;01massert\u001b[39;00m what_type \u001b[38;5;241m==\u001b[39m \u001b[38;5;124m\"\u001b[39m\u001b[38;5;124mstandard\u001b[39m\u001b[38;5;124m\"\u001b[39m \u001b[38;5;129;01mor\u001b[39;00m what_type\u001b[38;5;241m==\u001b[39m\u001b[38;5;124m\"\u001b[39m\u001b[38;5;124mcertified\u001b[39m\u001b[38;5;124m\"\u001b[39m \u001b[38;5;129;01mor\u001b[39;00m what_type\u001b[38;5;241m==\u001b[39m\u001b[38;5;124m\"\u001b[39m\u001b[38;5;124mnotarized\u001b[39m\u001b[38;5;124m\"\u001b[39m, \u001b[38;5;124m\"\u001b[39m\u001b[38;5;124mOnly accept valid types\u001b[39m\u001b[38;5;124m\"\u001b[39m\n\u001b[0;32m      4\u001b[0m     cost_of_trans \u001b[38;5;241m=\u001b[39m cost_of_translation(num_of_words,kwargs[\u001b[38;5;124m'\u001b[39m\u001b[38;5;124mwhat_type\u001b[39m\u001b[38;5;124m'\u001b[39m],kwargs[\u001b[38;5;124m'\u001b[39m\u001b[38;5;124mrush\u001b[39m\u001b[38;5;124m'\u001b[39m])\n",
      "\u001b[1;31mAssertionError\u001b[0m: Only accept positive number of words"
     ]
    }
   ],
   "source": [
    "translation_calculator(0,rush=True,what_type=\"notarized\")"
   ]
  },
  {
   "cell_type": "code",
   "execution_count": 241,
   "id": "c1d55fea",
   "metadata": {},
   "outputs": [
    {
     "ename": "AssertionError",
     "evalue": "Only accept valid types",
     "output_type": "error",
     "traceback": [
      "\u001b[1;31m---------------------------------------------------------------------------\u001b[0m",
      "\u001b[1;31mAssertionError\u001b[0m                            Traceback (most recent call last)",
      "Input \u001b[1;32mIn [241]\u001b[0m, in \u001b[0;36m<cell line: 1>\u001b[1;34m()\u001b[0m\n\u001b[1;32m----> 1\u001b[0m \u001b[43mtranslation_calculator\u001b[49m\u001b[43m(\u001b[49m\u001b[38;5;241;43m1000\u001b[39;49m\u001b[43m,\u001b[49m\u001b[43mrush\u001b[49m\u001b[38;5;241;43m=\u001b[39;49m\u001b[38;5;28;43;01mTrue\u001b[39;49;00m\u001b[43m,\u001b[49m\u001b[43mwhat_type\u001b[49m\u001b[38;5;241;43m=\u001b[39;49m\u001b[38;5;124;43m\"\u001b[39;49m\u001b[38;5;124;43mlive\u001b[39;49m\u001b[38;5;124;43m\"\u001b[39;49m\u001b[43m)\u001b[49m\n",
      "Input \u001b[1;32mIn [239]\u001b[0m, in \u001b[0;36mtranslation_calculator\u001b[1;34m(num_of_words, **kwargs)\u001b[0m\n\u001b[0;32m      1\u001b[0m \u001b[38;5;28;01mdef\u001b[39;00m \u001b[38;5;21mtranslation_calculator\u001b[39m(num_of_words,\u001b[38;5;241m*\u001b[39m\u001b[38;5;241m*\u001b[39mkwargs):\n\u001b[0;32m      2\u001b[0m     \u001b[38;5;28;01massert\u001b[39;00m num_of_words \u001b[38;5;241m>\u001b[39m \u001b[38;5;241m0\u001b[39m, \u001b[38;5;124m\"\u001b[39m\u001b[38;5;124mOnly accept positive number of words\u001b[39m\u001b[38;5;124m\"\u001b[39m\n\u001b[1;32m----> 3\u001b[0m     \u001b[38;5;28;01massert\u001b[39;00m what_type \u001b[38;5;241m==\u001b[39m \u001b[38;5;124m\"\u001b[39m\u001b[38;5;124mstandard\u001b[39m\u001b[38;5;124m\"\u001b[39m \u001b[38;5;129;01mor\u001b[39;00m what_type\u001b[38;5;241m==\u001b[39m\u001b[38;5;124m\"\u001b[39m\u001b[38;5;124mcertified\u001b[39m\u001b[38;5;124m\"\u001b[39m \u001b[38;5;129;01mor\u001b[39;00m what_type\u001b[38;5;241m==\u001b[39m\u001b[38;5;124m\"\u001b[39m\u001b[38;5;124mnotarized\u001b[39m\u001b[38;5;124m\"\u001b[39m, \u001b[38;5;124m\"\u001b[39m\u001b[38;5;124mOnly accept valid types\u001b[39m\u001b[38;5;124m\"\u001b[39m\n\u001b[0;32m      4\u001b[0m     cost_of_trans \u001b[38;5;241m=\u001b[39m cost_of_translation(num_of_words,kwargs[\u001b[38;5;124m'\u001b[39m\u001b[38;5;124mwhat_type\u001b[39m\u001b[38;5;124m'\u001b[39m],kwargs[\u001b[38;5;124m'\u001b[39m\u001b[38;5;124mrush\u001b[39m\u001b[38;5;124m'\u001b[39m])\n\u001b[0;32m      5\u001b[0m     sales_tax \u001b[38;5;241m=\u001b[39m sales_tax_notary(kwargs[\u001b[38;5;124m'\u001b[39m\u001b[38;5;124mwhat_type\u001b[39m\u001b[38;5;124m'\u001b[39m],tax_rate\u001b[38;5;241m=\u001b[39m\u001b[38;5;241m0.1\u001b[39m)\n",
      "\u001b[1;31mAssertionError\u001b[0m: Only accept valid types"
     ]
    }
   ],
   "source": [
    "translation_calculator(1000,rush=True,what_type=\"live\")"
   ]
  },
  {
   "cell_type": "markdown",
   "id": "4ffed3e4",
   "metadata": {},
   "source": [
    "b)"
   ]
  },
  {
   "cell_type": "code",
   "execution_count": 242,
   "id": "787e34f2",
   "metadata": {},
   "outputs": [],
   "source": [
    "def translation_calculator(num_of_words,**kwargs):\n",
    "    try:\n",
    "        if num_of_words > 0 and what_type == \"standard\" or what_type ==\"certified\" or what_type == \"notarized\": \n",
    "    \n",
    "            cost_of_trans = cost_of_translation(num_of_words,kwargs['what_type'],kwargs['rush'])\n",
    "            sales_tax = sales_tax_notary(kwargs['what_type'],tax_rate=0.1)\n",
    "            total_cost = cost_of_translation(num_of_words,kwargs['what_type'],kwargs['rush']) + sales_tax_notary(kwargs['what_type'],tax_rate=0.1)\n",
    "    \n",
    "            print('Number of words:', num_of_words)\n",
    "            print('Type of translation:',kwargs['what_type'])\n",
    "            print('Rush order:',kwargs['rush'])\n",
    "            if kwargs['what_type']==\"standard\":\n",
    "                print('Rate per Word:0.05')\n",
    "            else:\n",
    "                if kwargs['what_type']=='certified':\n",
    "                    print('Rate per Word:0.1')\n",
    "                else:\n",
    "                    if kwargs['what_type']==\"notarized\":\n",
    "                        print('Rate per Word:0.12')\n",
    "            print('---------------------------')\n",
    "        print('Cost of translation:',cost_of_trans)\n",
    "        print('Sales tax:',sales_tax)\n",
    "        print('---------------------------')\n",
    "        print('Total cost:',total_cost)\n",
    "    except:\n",
    "        print ('Please check your input values')"
   ]
  },
  {
   "cell_type": "code",
   "execution_count": 243,
   "id": "f7bad7be",
   "metadata": {},
   "outputs": [
    {
     "name": "stdout",
     "output_type": "stream",
     "text": [
      "Please check your input values\n"
     ]
    }
   ],
   "source": [
    "translation_calculator(-100,rush=True,what_type=\"notarized\")"
   ]
  }
 ],
 "metadata": {
  "kernelspec": {
   "display_name": "Python 3 (ipykernel)",
   "language": "python",
   "name": "python3"
  },
  "language_info": {
   "codemirror_mode": {
    "name": "ipython",
    "version": 3
   },
   "file_extension": ".py",
   "mimetype": "text/x-python",
   "name": "python",
   "nbconvert_exporter": "python",
   "pygments_lexer": "ipython3",
   "version": "3.9.12"
  }
 },
 "nbformat": 4,
 "nbformat_minor": 5
}
