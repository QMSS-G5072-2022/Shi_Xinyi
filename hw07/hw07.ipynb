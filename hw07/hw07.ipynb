{
 "cells": [
  {
   "cell_type": "markdown",
   "id": "b5d01834",
   "metadata": {},
   "source": [
    "Xinyi Shi - HW07 GR5072 Modern Data Structures"
   ]
  },
  {
   "cell_type": "markdown",
   "id": "c2b20af4",
   "metadata": {},
   "source": [
    "TestPyPI link: https://test.pypi.org/project/cipher-xs2474/<br>\n",
    "Github repository: https://github.com/QMSS-G5072-2022/cipher_shi_xinyi.git"
   ]
  },
  {
   "cell_type": "code",
   "execution_count": 7,
   "id": "22478d16",
   "metadata": {},
   "outputs": [
    {
     "name": "stdout",
     "output_type": "stream",
     "text": [
      "Requirement already satisfied: pandas==1.5.1 in c:\\users\\shixy\\anaconda3\\lib\\site-packages (1.5.1)\n",
      "Requirement already satisfied: pytz>=2020.1 in c:\\users\\shixy\\anaconda3\\lib\\site-packages (from pandas==1.5.1) (2021.3)\n",
      "Requirement already satisfied: python-dateutil>=2.8.1 in c:\\users\\shixy\\anaconda3\\lib\\site-packages (from pandas==1.5.1) (2.8.2)\n",
      "Requirement already satisfied: numpy>=1.20.3 in c:\\users\\shixy\\anaconda3\\lib\\site-packages (from pandas==1.5.1) (1.21.5)\n",
      "Requirement already satisfied: six>=1.5 in c:\\users\\shixy\\anaconda3\\lib\\site-packages (from python-dateutil>=2.8.1->pandas==1.5.1) (1.16.0)\n"
     ]
    }
   ],
   "source": [
    "!pip install pandas==1.5.1"
   ]
  },
  {
   "cell_type": "code",
   "execution_count": 8,
   "id": "4a1965aa",
   "metadata": {},
   "outputs": [
    {
     "name": "stdout",
     "output_type": "stream",
     "text": [
      "Looking in indexes: https://test.pypi.org/simple/\n",
      "Requirement already satisfied: cipher-xs2474==0.1.0 in c:\\users\\shixy\\anaconda3\\lib\\site-packages (0.1.0)\n",
      "Requirement already satisfied: pandas<2.0.0,>=1.5.1 in c:\\users\\shixy\\anaconda3\\lib\\site-packages (from cipher-xs2474==0.1.0) (1.5.1)\n",
      "Requirement already satisfied: python-dateutil>=2.8.1 in c:\\users\\shixy\\anaconda3\\lib\\site-packages (from pandas<2.0.0,>=1.5.1->cipher-xs2474==0.1.0) (2.8.2)\n",
      "Requirement already satisfied: pytz>=2020.1 in c:\\users\\shixy\\anaconda3\\lib\\site-packages (from pandas<2.0.0,>=1.5.1->cipher-xs2474==0.1.0) (2021.3)\n",
      "Requirement already satisfied: numpy>=1.20.3 in c:\\users\\shixy\\anaconda3\\lib\\site-packages (from pandas<2.0.0,>=1.5.1->cipher-xs2474==0.1.0) (1.21.5)\n",
      "Requirement already satisfied: six>=1.5 in c:\\users\\shixy\\anaconda3\\lib\\site-packages (from python-dateutil>=2.8.1->pandas<2.0.0,>=1.5.1->cipher-xs2474==0.1.0) (1.16.0)\n"
     ]
    }
   ],
   "source": [
    "!pip install -i https://test.pypi.org/simple/ cipher-xs2474==0.1.0"
   ]
  },
  {
   "cell_type": "code",
   "execution_count": 9,
   "id": "c1634677",
   "metadata": {},
   "outputs": [],
   "source": [
    "from cipher_xs2474 import cipher_xs2474"
   ]
  },
  {
   "cell_type": "code",
   "execution_count": 10,
   "id": "bc49a5a3",
   "metadata": {},
   "outputs": [
    {
     "data": {
      "text/plain": [
       "'yqtf'"
      ]
     },
     "execution_count": 10,
     "metadata": {},
     "output_type": "execute_result"
    }
   ],
   "source": [
    "cipher_xs2474.cipher('word', 2, encrypt = True)"
   ]
  },
  {
   "cell_type": "code",
   "execution_count": 13,
   "id": "660c3f98",
   "metadata": {},
   "outputs": [
    {
     "name": "stdout",
     "output_type": "stream",
     "text": [
      "============================= test session starts =============================\n",
      "platform win32 -- Python 3.9.12, pytest-7.1.1, pluggy-1.0.0\n",
      "rootdir: C:\\Users\\shixy\\workspace\\Shi_Xinyi\\hw07\n",
      "plugins: anyio-3.5.0\n",
      "collected 1 item\n",
      "\n",
      "test_cipher_xs2474.py .                                                  [100%]\n",
      "\n",
      "============================== 1 passed in 0.04s ==============================\n"
     ]
    }
   ],
   "source": [
    "!poetry run pytest"
   ]
  },
  {
   "cell_type": "code",
   "execution_count": 14,
   "id": "a6aa9740",
   "metadata": {},
   "outputs": [
    {
     "name": "stdout",
     "output_type": "stream",
     "text": [
      "Help on module cipher_xs2474.cipher_xs2474 in cipher_xs2474:\n",
      "\n",
      "NAME\n",
      "    cipher_xs2474.cipher_xs2474\n",
      "\n",
      "FUNCTIONS\n",
      "    cipher(text, shift, encrypt=True)\n",
      "        An algorithm for performing encryption or decryption which takes in original text and number of shift and returns the transformed text. \n",
      "        \n",
      "        Parameters\n",
      "        ----------\n",
      "        text: your original text (string)\n",
      "        shift: the number of shift in the alphabet that you would like to have for your text (integer)\n",
      "        encrypt: transforming the text in encryption or decryption (boolean)\n",
      "        \n",
      "        Returns\n",
      "        ----------\n",
      "        The new transformed text.\n",
      "        \n",
      "        Examples\n",
      "        ---------\n",
      "        from cipher_xs2474 import cipher_xs2474\n",
      "        cipher_xs2474.cipher('word, 2, encrypt = True)\n",
      "        'yqtf'\n",
      "        \n",
      "        from cipher_xs2474 import cipher_xs2474\n",
      "        cipher_xs2474.cipher('yqtf', 2, encrypt = False)\n",
      "        'word'\n",
      "\n",
      "FILE\n",
      "    c:\\users\\shixy\\anaconda3\\lib\\site-packages\\cipher_xs2474\\cipher_xs2474.py\n",
      "\n",
      "\n"
     ]
    }
   ],
   "source": [
    "help(cipher_xs2474)"
   ]
  },
  {
   "cell_type": "code",
   "execution_count": 15,
   "id": "9ba72080",
   "metadata": {
    "scrolled": true
   },
   "outputs": [
    {
     "name": "stdout",
     "output_type": "stream",
     "text": [
      "Help on function cipher in module cipher_xs2474.cipher_xs2474:\n",
      "\n",
      "cipher(text, shift, encrypt=True)\n",
      "    An algorithm for performing encryption or decryption which takes in original text and number of shift and returns the transformed text. \n",
      "    \n",
      "    Parameters\n",
      "    ----------\n",
      "    text: your original text (string)\n",
      "    shift: the number of shift in the alphabet that you would like to have for your text (integer)\n",
      "    encrypt: transforming the text in encryption or decryption (boolean)\n",
      "    \n",
      "    Returns\n",
      "    ----------\n",
      "    The new transformed text.\n",
      "    \n",
      "    Examples\n",
      "    ---------\n",
      "    from cipher_xs2474 import cipher_xs2474\n",
      "    cipher_xs2474.cipher('word, 2, encrypt = True)\n",
      "    'yqtf'\n",
      "    \n",
      "    from cipher_xs2474 import cipher_xs2474\n",
      "    cipher_xs2474.cipher('yqtf', 2, encrypt = False)\n",
      "    'word'\n",
      "\n"
     ]
    }
   ],
   "source": [
    "help(cipher_xs2474.cipher)"
   ]
  }
 ],
 "metadata": {
  "kernelspec": {
   "display_name": "Python 3 (ipykernel)",
   "language": "python",
   "name": "python3"
  },
  "language_info": {
   "codemirror_mode": {
    "name": "ipython",
    "version": 3
   },
   "file_extension": ".py",
   "mimetype": "text/x-python",
   "name": "python",
   "nbconvert_exporter": "python",
   "pygments_lexer": "ipython3",
   "version": "3.9.12"
  }
 },
 "nbformat": 4,
 "nbformat_minor": 5
}
