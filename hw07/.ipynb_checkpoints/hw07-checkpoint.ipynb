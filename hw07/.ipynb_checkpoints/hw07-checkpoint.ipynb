{
 "cells": [
  {
   "cell_type": "markdown",
   "id": "b5d01834",
   "metadata": {},
   "source": [
    "Xinyi Shi - HW07 GR5072 Modern Data Structures"
   ]
  },
  {
   "cell_type": "markdown",
   "id": "c2b20af4",
   "metadata": {},
   "source": [
    "TestPyPI link: https://test.pypi.org/project/cipher-xs2474/<br>\n",
    "Github repository: https://github.com/QMSS-G5072-2022/cipher_shi_xinyi.git"
   ]
  },
  {
   "cell_type": "code",
   "execution_count": 4,
   "id": "22478d16",
   "metadata": {},
   "outputs": [
    {
     "name": "stdout",
     "output_type": "stream",
     "text": [
      "Collecting pandas==1.5.1\n",
      "  Downloading pandas-1.5.1-cp39-cp39-win_amd64.whl (10.9 MB)\n",
      "Requirement already satisfied: pytz>=2020.1 in c:\\users\\shixy\\anaconda3\\lib\\site-packages (from pandas==1.5.1) (2021.3)\n",
      "Requirement already satisfied: numpy>=1.20.3 in c:\\users\\shixy\\anaconda3\\lib\\site-packages (from pandas==1.5.1) (1.21.5)\n",
      "Requirement already satisfied: python-dateutil>=2.8.1 in c:\\users\\shixy\\anaconda3\\lib\\site-packages (from pandas==1.5.1) (2.8.2)\n",
      "Requirement already satisfied: six>=1.5 in c:\\users\\shixy\\anaconda3\\lib\\site-packages (from python-dateutil>=2.8.1->pandas==1.5.1) (1.16.0)\n",
      "Installing collected packages: pandas\n",
      "  Attempting uninstall: pandas\n",
      "    Found existing installation: pandas 1.4.2\n",
      "    Uninstalling pandas-1.4.2:\n",
      "      Successfully uninstalled pandas-1.4.2\n",
      "Successfully installed pandas-1.5.1\n"
     ]
    }
   ],
   "source": [
    "!pip install pandas==1.5.1"
   ]
  },
  {
   "cell_type": "code",
   "execution_count": 5,
   "id": "4a1965aa",
   "metadata": {},
   "outputs": [
    {
     "name": "stdout",
     "output_type": "stream",
     "text": [
      "Looking in indexes: https://test.pypi.org/simple/\n",
      "Collecting cipher-xs2474==0.1.0\n",
      "  Using cached https://test-files.pythonhosted.org/packages/bb/1f/c329cb5ce477a3a6369c10450bfd1a1eb940986a6f7d4eb3e32a9bf6fcd6/cipher_xs2474-0.1.0-py3-none-any.whl (3.0 kB)\n",
      "Requirement already satisfied: pandas<2.0.0,>=1.5.1 in c:\\users\\shixy\\anaconda3\\lib\\site-packages (from cipher-xs2474==0.1.0) (1.5.1)\n",
      "Requirement already satisfied: numpy>=1.20.3 in c:\\users\\shixy\\anaconda3\\lib\\site-packages (from pandas<2.0.0,>=1.5.1->cipher-xs2474==0.1.0) (1.21.5)\n",
      "Requirement already satisfied: python-dateutil>=2.8.1 in c:\\users\\shixy\\anaconda3\\lib\\site-packages (from pandas<2.0.0,>=1.5.1->cipher-xs2474==0.1.0) (2.8.2)\n",
      "Requirement already satisfied: pytz>=2020.1 in c:\\users\\shixy\\anaconda3\\lib\\site-packages (from pandas<2.0.0,>=1.5.1->cipher-xs2474==0.1.0) (2021.3)\n",
      "Requirement already satisfied: six>=1.5 in c:\\users\\shixy\\anaconda3\\lib\\site-packages (from python-dateutil>=2.8.1->pandas<2.0.0,>=1.5.1->cipher-xs2474==0.1.0) (1.16.0)\n",
      "Installing collected packages: cipher-xs2474\n",
      "Successfully installed cipher-xs2474-0.1.0\n"
     ]
    }
   ],
   "source": [
    "!pip install -i https://test.pypi.org/simple/ cipher-xs2474==0.1.0"
   ]
  },
  {
   "cell_type": "code",
   "execution_count": 1,
   "id": "c1634677",
   "metadata": {},
   "outputs": [],
   "source": [
    "from cipher_xs2474 import cipher_xs2474"
   ]
  },
  {
   "cell_type": "code",
   "execution_count": 2,
   "id": "bc49a5a3",
   "metadata": {},
   "outputs": [
    {
     "data": {
      "text/plain": [
       "'yqtf'"
      ]
     },
     "execution_count": 2,
     "metadata": {},
     "output_type": "execute_result"
    }
   ],
   "source": [
    "cipher_xs2474.cipher('word', 2, encrypt = True)"
   ]
  },
  {
   "cell_type": "code",
   "execution_count": 3,
   "id": "a6aa9740",
   "metadata": {},
   "outputs": [
    {
     "name": "stdout",
     "output_type": "stream",
     "text": [
      "Help on module cipher_xs2474.cipher_xs2474 in cipher_xs2474:\n",
      "\n",
      "NAME\n",
      "    cipher_xs2474.cipher_xs2474\n",
      "\n",
      "FUNCTIONS\n",
      "    cipher(text, shift, encrypt=True)\n",
      "        An algorithm for performing encryption or decryption which takes in original text and number of shift and returns the transformed text. \n",
      "        \n",
      "        Parameters\n",
      "        ----------\n",
      "        text: your original text (string)\n",
      "        shift: the number of shift in the alphabet that you would like to have for your text (integer)\n",
      "        encrypt: transforming the text in encryption or decryption (boolean)\n",
      "        \n",
      "        Returns\n",
      "        ----------\n",
      "        The new transformed text.\n",
      "        \n",
      "        Examples\n",
      "        ---------\n",
      "        from cipher_xs2474 import cipher_xs2474\n",
      "        cipher_xs2474.cipher('word, 2, encrypt = True)\n",
      "        'yqtf'\n",
      "        \n",
      "        from cipher_xs2474 import cipher_xs2474\n",
      "        cipher_xs2474.cipher('yqtf', 2, encrypt = False)\n",
      "        'word'\n",
      "\n",
      "FILE\n",
      "    c:\\users\\shixy\\anaconda3\\lib\\site-packages\\cipher_xs2474\\cipher_xs2474.py\n",
      "\n",
      "\n"
     ]
    }
   ],
   "source": [
    "help(cipher_xs2474)"
   ]
  },
  {
   "cell_type": "code",
   "execution_count": 5,
   "id": "9ba72080",
   "metadata": {},
   "outputs": [
    {
     "name": "stdout",
     "output_type": "stream",
     "text": [
      "Help on function cipher in module cipher_xs2474.cipher_xs2474:\n",
      "\n",
      "cipher(text, shift, encrypt=True)\n",
      "    An algorithm for performing encryption or decryption which takes in original text and number of shift and returns the transformed text. \n",
      "    \n",
      "    Parameters\n",
      "    ----------\n",
      "    text: your original text (string)\n",
      "    shift: the number of shift in the alphabet that you would like to have for your text (integer)\n",
      "    encrypt: transforming the text in encryption or decryption (boolean)\n",
      "    \n",
      "    Returns\n",
      "    ----------\n",
      "    The new transformed text.\n",
      "    \n",
      "    Examples\n",
      "    ---------\n",
      "    from cipher_xs2474 import cipher_xs2474\n",
      "    cipher_xs2474.cipher('word, 2, encrypt = True)\n",
      "    'yqtf'\n",
      "    \n",
      "    from cipher_xs2474 import cipher_xs2474\n",
      "    cipher_xs2474.cipher('yqtf', 2, encrypt = False)\n",
      "    'word'\n",
      "\n"
     ]
    }
   ],
   "source": [
    "help(cipher_xs2474.cipher)"
   ]
  }
 ],
 "metadata": {
  "kernelspec": {
   "display_name": "Python 3 (ipykernel)",
   "language": "python",
   "name": "python3"
  },
  "language_info": {
   "codemirror_mode": {
    "name": "ipython",
    "version": 3
   },
   "file_extension": ".py",
   "mimetype": "text/x-python",
   "name": "python",
   "nbconvert_exporter": "python",
   "pygments_lexer": "ipython3",
   "version": "3.9.12"
  }
 },
 "nbformat": 4,
 "nbformat_minor": 5
}
