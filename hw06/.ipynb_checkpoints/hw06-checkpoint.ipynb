{
 "cells": [
  {
   "cell_type": "markdown",
   "id": "0768b333",
   "metadata": {},
   "source": [
    "Xinyi Shi GR5072 hw06"
   ]
  },
  {
   "cell_type": "code",
   "execution_count": 1,
   "id": "58fe0aa5",
   "metadata": {},
   "outputs": [],
   "source": [
    "def cipher(text, shift, encrypt=True):\n",
    "    alphabet = 'abcdefghijklmnopqrstuvwxyzABCDEFGHIJKLMNOPQRSTUVWXYZ'\n",
    "    new_text = ''\n",
    "    for c in text:\n",
    "        index = alphabet.find(c)\n",
    "        if index == -1:\n",
    "            new_text += c\n",
    "        else:\n",
    "            new_index = index + shift if encrypt == True else index - shift\n",
    "            new_index %= len(alphabet)\n",
    "            new_text += alphabet[new_index:new_index+1]\n",
    "    return new_text"
   ]
  },
  {
   "cell_type": "markdown",
   "id": "fd2155c7",
   "metadata": {},
   "source": [
    "a) Write a test function that checks whether the cipher function works using a single word as an example."
   ]
  },
  {
   "cell_type": "code",
   "execution_count": 2,
   "id": "a8571920",
   "metadata": {},
   "outputs": [],
   "source": [
    "def test_cipher_word():\n",
    "    text = 'word'\n",
    "    shift = 2\n",
    "    expected = 'yqtf'\n",
    "    actual = cipher(text, shift)\n",
    "    assert actual == expected\n",
    "\n",
    "test_cipher_word()"
   ]
  },
  {
   "cell_type": "markdown",
   "id": "4a3bd9b5",
   "metadata": {},
   "source": [
    "b) Write a test function that checks a negative shift works (shift < 0)."
   ]
  },
  {
   "cell_type": "code",
   "execution_count": 3,
   "id": "17c58be0",
   "metadata": {},
   "outputs": [],
   "source": [
    "def test_cipher_shift():\n",
    "    text = 'word'\n",
    "    shift = -1\n",
    "    expected = 'vnqc'\n",
    "    actual = cipher(text, shift)\n",
    "    assert actual == expected\n",
    "\n",
    "test_cipher_shift()"
   ]
  },
  {
   "cell_type": "markdown",
   "id": "babf59fa",
   "metadata": {},
   "source": [
    "c) Write a test for the case when the text contains symbols which are not in the alphabet."
   ]
  },
  {
   "cell_type": "code",
   "execution_count": 4,
   "id": "edaefdc7",
   "metadata": {},
   "outputs": [],
   "source": [
    "def test_cipher_symbol():\n",
    "    text = 'word!'\n",
    "    shift = -1\n",
    "    expected = 'vnqc!'\n",
    "    actual = cipher(text, shift)\n",
    "    assert actual == expected \n",
    "\n",
    "test_cipher_symbol()"
   ]
  },
  {
   "cell_type": "markdown",
   "id": "48684233",
   "metadata": {},
   "source": [
    "d) Add an assertion to the original function that causes an exception when the shift parameter is set to a string ( e.g. \"two\"). Now, add a test that checks for that exception occurring as expected when a string is passed to shift."
   ]
  },
  {
   "cell_type": "code",
   "execution_count": 5,
   "id": "f6930af5",
   "metadata": {},
   "outputs": [],
   "source": [
    "import pytest\n",
    "\n",
    "def cipher(text, shift, encrypt=True):\n",
    "    assert type(shift) is int, 'Shift should be an integer'\n",
    "        \n",
    "    alphabet = 'abcdefghijklmnopqrstuvwxyzABCDEFGHIJKLMNOPQRSTUVWXYZ'\n",
    "    new_text = ''\n",
    "    for c in text:\n",
    "        index = alphabet.find(c)\n",
    "        if index == -1:\n",
    "            new_text += c\n",
    "        else:\n",
    "            new_index = index + shift if encrypt == True else index - shift\n",
    "            new_index %= len(alphabet)\n",
    "            new_text += alphabet[new_index:new_index+1]\n",
    "    return new_text\n"
   ]
  },
  {
   "cell_type": "code",
   "execution_count": 6,
   "id": "025d8a33",
   "metadata": {},
   "outputs": [],
   "source": [
    "def test_cipher_integer():\n",
    "    text = 'word'\n",
    "    shift = \"two\"\n",
    "    expected = 'yqtf'\n",
    "    with pytest.raises(AssertionError):\n",
    "        cipher(text, shift)\n",
    "    \n",
    "    \n",
    "test_cipher_integer()"
   ]
  },
  {
   "cell_type": "markdown",
   "id": "c7ebb2fe",
   "metadata": {},
   "source": [
    "e) Add the tests from 1a, 1b, 1c, and 1d to a file called test_cipher.py in your folder. Run all the tests from your command line using pytest (and verbosity setting -vv) and add a screen shot of the command and the output to your homework solution. Alternatively, you can send the tests to your terminal from within your Jupyter notebook using the !pytest command."
   ]
  },
  {
   "cell_type": "code",
   "execution_count": 7,
   "id": "a708182a",
   "metadata": {},
   "outputs": [],
   "source": [
    "import pytest"
   ]
  },
  {
   "cell_type": "code",
   "execution_count": 8,
   "id": "ce70c16f",
   "metadata": {},
   "outputs": [
    {
     "name": "stdout",
     "output_type": "stream",
     "text": [
      "============================= test session starts =============================\n",
      "platform win32 -- Python 3.9.12, pytest-7.1.1, pluggy-1.0.0 -- C:\\Users\\shixy\\anaconda3\\python.exe\n",
      "cachedir: .pytest_cache\n",
      "rootdir: C:\\Users\\shixy\\workspace\\Shi_Xinyi\\hw06\n",
      "plugins: anyio-3.5.0\n",
      "collecting ... collected 4 items\n",
      "\n",
      "test_cipher.py::test_cipher_word PASSED                                  [ 25%]\n",
      "test_cipher.py::test_cipher_shift PASSED                                 [ 50%]\n",
      "test_cipher.py::test_cipher_symbol PASSED                                [ 75%]\n",
      "test_cipher.py::test_cipher_integer PASSED                               [100%]\n",
      "\n",
      "============================== 4 passed in 0.08s ==============================\n"
     ]
    }
   ],
   "source": [
    "!pytest test_cipher.py -vv"
   ]
  },
  {
   "cell_type": "markdown",
   "id": "be917924",
   "metadata": {},
   "source": [
    "f) Now, expand the test in (1a) using several examples which include a single word, lower case only, upper case only, and a sentence with spaces. Use a fixture for this, so that this remains a single test function."
   ]
  },
  {
   "cell_type": "code",
   "execution_count": 9,
   "id": "961b794d",
   "metadata": {},
   "outputs": [
    {
     "name": "stdout",
     "output_type": "stream",
     "text": [
      "============================= test session starts =============================\n",
      "platform win32 -- Python 3.9.12, pytest-7.1.1, pluggy-1.0.0 -- C:\\Users\\shixy\\anaconda3\\python.exe\n",
      "cachedir: .pytest_cache\n",
      "rootdir: C:\\Users\\shixy\\workspace\\Shi_Xinyi\\hw06\n",
      "plugins: anyio-3.5.0\n",
      "collecting ... collected 4 items\n",
      "\n",
      "looping.py::test_cipher_looping[word-yqtf] PASSED                        [ 25%]\n",
      "looping.py::test_cipher_looping[jesus-lguwu] PASSED                      [ 50%]\n",
      "looping.py::test_cipher_looping[AND-CPF] PASSED                          [ 75%]\n",
      "looping.py::test_cipher_looping[Dogs are cute-Fqiu ctg ewvg] PASSED      [100%]\n",
      "\n",
      "============================== 4 passed in 0.04s ==============================\n"
     ]
    }
   ],
   "source": [
    "!pytest looping.py -vv"
   ]
  },
  {
   "cell_type": "markdown",
   "id": "751f4c91",
   "metadata": {},
   "source": [
    "g) Write a simple integration-like test that relies on the fact that we can encrypt and decrypt a string using the function (using the encrypt parameter). That is, your test should start with a string, encrypt it, decrypt it, and then compare the result to the starting point. Set up a test that runs this for shift values from 1 to 10."
   ]
  },
  {
   "cell_type": "code",
   "execution_count": 12,
   "id": "62763732",
   "metadata": {},
   "outputs": [],
   "source": [
    "def test_cipher_integration():\n",
    "    text = 'hi'\n",
    "    for i in range(10):\n",
    "        shift = i + 1\n",
    "\n",
    "    en = cipher(text, shift, encrypt = True)\n",
    "    de = cipher(en, shift, encrypt = False)\n",
    "    assert de == text\n",
    "    \n",
    "test_cipher_integration()"
   ]
  },
  {
   "cell_type": "markdown",
   "id": "2c862dae",
   "metadata": {},
   "source": [
    "2. \n",
    "Add the test methods from 1a-1c to a test class. Now, parametrize your class, so that the same five test cases will be sent to all of the test functions in the class. [Note: I did no show this exact procedure in class but this is quite similar to the implementation in 1f].\n",
    "\n",
    "Add the test class to a file called test_cipher_class.py in your folder. Run all the tests in the test class from your command line using pytest (and verbosity setting -vv) and add a screen shot of the command and the output to your homework solution."
   ]
  },
  {
   "cell_type": "code",
   "execution_count": null,
   "id": "56a0d453",
   "metadata": {},
   "outputs": [],
   "source": [
    "class TestClass:\n",
    "\n",
    "    def test_cipher_word():\n",
    "        text = 'word'\n",
    "        shift = 2\n",
    "        expected = 'yqtf'\n",
    "        actual = cipher(text, shift)\n",
    "        assert actual == expected\n",
    "\n",
    "\n",
    "    def test_cipher_shift():\n",
    "        text = 'word'\n",
    "        shift = -1\n",
    "        expected = 'vnqc'\n",
    "        actual = cipher(text, shift)\n",
    "        assert actual == expected\n",
    "\n",
    "\n",
    "    def test_cipher_symbol():\n",
    "        text = 'word!'\n",
    "        shift = -1\n",
    "        expected = 'vnqc!'\n",
    "        actual = cipher(text, shift)\n",
    "        assert actual == expected \n",
    "\n",
    "    def test_cipher_integer():\n",
    "\n",
    "        text = 'word'\n",
    "        shift = \"two\"\n",
    "        expected = 'yqtf'\n",
    "        with pytest.raises(AssertionError):\n",
    "            cipher(text, shift)"
   ]
  },
  {
   "cell_type": "code",
   "execution_count": 21,
   "id": "82681afe",
   "metadata": {},
   "outputs": [
    {
     "name": "stdout",
     "output_type": "stream",
     "text": [
      "============================= test session starts =============================\n",
      "platform win32 -- Python 3.9.12, pytest-7.1.1, pluggy-1.0.0 -- C:\\Users\\shixy\\anaconda3\\python.exe\n",
      "cachedir: .pytest_cache\n",
      "rootdir: C:\\Users\\shixy\\workspace\\Shi_Xinyi\\hw06\n",
      "plugins: anyio-3.5.0\n",
      "collecting ... collected 6 items\n",
      "\n",
      "test_cipher_class.py::TestClass::test_cipher_word PASSED                 [ 16%]\n",
      "test_cipher_class.py::TestClass::test_cipher_shift PASSED                [ 33%]\n",
      "test_cipher_class.py::TestClass::test_cipher_symbol PASSED               [ 50%]\n",
      "test_cipher_class.py::TestClass::test_cipher_integer PASSED              [ 66%]\n",
      "test_cipher_class.py::TestClass::test_cipher_upper PASSED                [ 83%]\n",
      "test_cipher_class.py::TestClass::test_cipher_sentence PASSED             [100%]\n",
      "\n",
      "============================== 6 passed in 0.10s ==============================\n"
     ]
    }
   ],
   "source": [
    "import pytest\n",
    "!pytest test_cipher_class.py -vv"
   ]
  }
 ],
 "metadata": {
  "kernelspec": {
   "display_name": "Python 3 (ipykernel)",
   "language": "python",
   "name": "python3"
  },
  "language_info": {
   "codemirror_mode": {
    "name": "ipython",
    "version": 3
   },
   "file_extension": ".py",
   "mimetype": "text/x-python",
   "name": "python",
   "nbconvert_exporter": "python",
   "pygments_lexer": "ipython3",
   "version": "3.9.12"
  }
 },
 "nbformat": 4,
 "nbformat_minor": 5
}
