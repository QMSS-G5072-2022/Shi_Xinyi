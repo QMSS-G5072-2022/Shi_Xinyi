{
 "cells": [
  {
   "cell_type": "code",
   "execution_count": 1,
   "id": "f34ca4fc",
   "metadata": {},
   "outputs": [],
   "source": [
    "import pandas as pd\n",
    "import pytest\n",
    "\n",
    "def test_get_exchange_price_returns_dataframe_with_valid_size():\n",
    "    # Call the get_exchange_price() function with a valid size argument\n",
    "    df = get_exchange_price('BTC', 10)\n",
    "    \n",
    "    # Verify that the return value is a Pandas DataFrame\n",
    "    assert isinstance(df, pd.DataFrame)\n"
   ]
  },
  {
   "cell_type": "code",
   "execution_count": 2,
   "id": "06bd5249",
   "metadata": {},
   "outputs": [],
   "source": [
    "def test_get_exchange_price_handles_invalid_asset():\n",
    "    # Call the get_exchange_price() function with an invalid asset argument\n",
    "    result = get_exchange_price(123, 10)\n",
    "    \n",
    "    # Verify that the function returns the expected error message\n",
    "    assert result == 'No data available, please check your input values'\n",
    "\n",
    "def test_get_exchange_price_handles_invalid_size():\n",
    "    # Call the get_exchange_price() function with an invalid size argument\n",
    "    result = get_exchange_price('BTC', -10)\n",
    "    \n",
    "    # Verify that the function returns the expected error message\n",
    "    assert result == 'No data available, please check your input values'\n"
   ]
  },
  {
   "cell_type": "code",
   "execution_count": null,
   "id": "0aa3cd20",
   "metadata": {},
   "outputs": [],
   "source": []
  }
 ],
 "metadata": {
  "kernelspec": {
   "display_name": "Python 3 (ipykernel)",
   "language": "python",
   "name": "python3"
  },
  "language_info": {
   "codemirror_mode": {
    "name": "ipython",
    "version": 3
   },
   "file_extension": ".py",
   "mimetype": "text/x-python",
   "name": "python",
   "nbconvert_exporter": "python",
   "pygments_lexer": "ipython3",
   "version": "3.9.12"
  }
 },
 "nbformat": 4,
 "nbformat_minor": 5
}
