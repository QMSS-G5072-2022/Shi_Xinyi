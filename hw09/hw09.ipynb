{
 "cells": [
  {
   "cell_type": "markdown",
   "id": "0c646dd9",
   "metadata": {},
   "source": [
    "1. Get the HTML"
   ]
  },
  {
   "cell_type": "code",
   "execution_count": 3,
   "id": "c447c29d",
   "metadata": {},
   "outputs": [],
   "source": [
    "import ssl\n",
    "\n",
    "ssl._create_default_https_context = ssl._create_unverified_context"
   ]
  },
  {
   "cell_type": "code",
   "execution_count": 4,
   "id": "94cb4e2f",
   "metadata": {},
   "outputs": [],
   "source": [
    "import pandas as pd \n",
    "df_list = pd.read_html('https://en.wikipedia.org/wiki/Mitch_McConnell')"
   ]
  },
  {
   "cell_type": "markdown",
   "id": "22479575",
   "metadata": {},
   "source": [
    "2.Get the infobox "
   ]
  },
  {
   "cell_type": "code",
   "execution_count": 52,
   "id": "78724794",
   "metadata": {},
   "outputs": [],
   "source": [
    "import requests\n",
    "from bs4 import BeautifulSoup\n",
    "\n",
    "response = requests.get(\"https://en.wikipedia.org/wiki/Mitch_McConnell\")\n",
    "content = response.content\n",
    "soup = BeautifulSoup(response.content, 'html.parser')"
   ]
  },
  {
   "cell_type": "code",
   "execution_count": 5,
   "id": "8fdd77fe",
   "metadata": {},
   "outputs": [
    {
     "name": "stdout",
     "output_type": "stream",
     "text": [
      "[<table class=\"infobox vcard\"><tbody><tr><th class=\"infobox-above\" colspan=\"2\" style=\"font-size: 100%;\"><div class=\"fn\" style=\"font-size:125%;\">Mitch McConnell</div></th></tr><tr><td class=\"infobox-image\" colspan=\"2\"><a class=\"image\" href=\"/wiki/File:Mitch_McConnell_2016_official_photo_(1).jpg\"><img alt=\"Mitch McConnell 2016 official photo (1).jpg\" data-file-height=\"2335\" data-file-width=\"1696\" decoding=\"async\" height=\"303\" src=\"//upload.wikimedia.org/wikipedia/commons/thumb/0/0b/Mitch_McConnell_2016_official_photo_%281%29.jpg/220px-Mitch_McConnell_2016_official_photo_%281%29.jpg\" srcset=\"//upload.wikimedia.org/wikipedia/commons/thumb/0/0b/Mitch_McConnell_2016_official_photo_%281%29.jpg/330px-Mitch_McConnell_2016_official_photo_%281%29.jpg 1.5x, //upload.wikimedia.org/wikipedia/commons/thumb/0/0b/Mitch_McConnell_2016_official_photo_%281%29.jpg/440px-Mitch_McConnell_2016_official_photo_%281%29.jpg 2x\" width=\"220\"/></a><div class=\"infobox-caption\" style=\"line-height:normal;padding-top:0.2em;\">Official portrait, 2016</div></td></tr><tr><td class=\"infobox-full-data\" colspan=\"2\"><link href=\"mw-data:TemplateStyles:r1066479718\" rel=\"mw-deduplicated-inline-style\"/></td></tr><tr><th class=\"infobox-header\" colspan=\"2\" style=\"background:lavender;line-height:normal;padding:0.2em;\"><a href=\"/wiki/Party_leaders_of_the_United_States_Senate\" title=\"Party leaders of the United States Senate\">Senate Minority Leader</a></th></tr><tr><td class=\"infobox-full-data\" colspan=\"2\" style=\"border-bottom:none\"><div style=\"width:100%; margin:0; background-color: lavender\"><b><a href=\"/wiki/Incumbent\" title=\"Incumbent\">Incumbent</a></b></div></td></tr><tr><td class=\"infobox-full-data\" colspan=\"2\" style=\"border-bottom:none\"><span class=\"nowrap\"><b>Assumed office</b></span> <br/>January 20, 2021</td><link href=\"mw-data:TemplateStyles:r1066479718\" rel=\"mw-deduplicated-inline-style\"/></tr><tr><th class=\"infobox-label\" scope=\"row\" style=\"text-align:left\">Whip</th><td class=\"infobox-data\"><a href=\"/wiki/John_Thune\" title=\"John Thune\">John Thune</a></td></tr><tr><th class=\"infobox-label\" scope=\"row\" style=\"text-align:left\"><span class=\"nowrap\">Preceded by</span></th><td class=\"infobox-data\"><a href=\"/wiki/Chuck_Schumer\" title=\"Chuck Schumer\">Chuck Schumer</a></td><link href=\"mw-data:TemplateStyles:r1066479718\" rel=\"mw-deduplicated-inline-style\"/></tr><tr><td class=\"infobox-full-data\" colspan=\"2\" style=\"border-bottom:none\"><span class=\"nowrap\"><b>In office</b></span><br/>January 3, 2007 – January 3, 2015</td><link href=\"mw-data:TemplateStyles:r1066479718\" rel=\"mw-deduplicated-inline-style\"/></tr><tr><th class=\"infobox-label\" scope=\"row\" style=\"text-align:left\">Whip</th><td class=\"infobox-data\"><a href=\"/wiki/Trent_Lott\" title=\"Trent Lott\">Trent Lott</a><br/><a href=\"/wiki/Jon_Kyl\" title=\"Jon Kyl\">Jon Kyl</a><br/><a href=\"/wiki/John_Cornyn\" title=\"John Cornyn\">John Cornyn</a></td></tr><tr><th class=\"infobox-label\" scope=\"row\" style=\"text-align:left\"><span class=\"nowrap\">Preceded by</span></th><td class=\"infobox-data\"><a href=\"/wiki/Harry_Reid\" title=\"Harry Reid\">Harry Reid</a></td></tr><tr><th class=\"infobox-label\" scope=\"row\" style=\"text-align:left\"><span class=\"nowrap\">Succeeded by</span></th><td class=\"infobox-data\">Harry Reid</td><link href=\"mw-data:TemplateStyles:r1066479718\" rel=\"mw-deduplicated-inline-style\"/></tr><tr><th class=\"infobox-header\" colspan=\"2\" style=\"background:lavender;line-height:normal;padding:0.2em;\"><a href=\"/wiki/United_States_Senate\" title=\"United States Senate\">United States Senator</a><br/>from <a href=\"/wiki/Kentucky\" title=\"Kentucky\">Kentucky</a></th></tr><tr><td class=\"infobox-full-data\" colspan=\"2\" style=\"border-bottom:none\"><div style=\"width:100%; margin:0; background-color: lavender\"><b><a href=\"/wiki/Incumbent\" title=\"Incumbent\">Incumbent</a></b></div></td></tr><tr><td class=\"infobox-full-data\" colspan=\"2\" style=\"border-bottom:none\"><span class=\"nowrap\"><b>Assumed office</b></span> <br/>January 3, 1985<div style=\"line-height:normal; padding-top:0.2em; padding-bottom:0.1em\">Serving with <a href=\"/wiki/Rand_Paul\" title=\"Rand Paul\">Rand Paul</a></div></td><link href=\"mw-data:TemplateStyles:r1066479718\" rel=\"mw-deduplicated-inline-style\"/></tr><tr><th class=\"infobox-label\" scope=\"row\" style=\"text-align:left\"><span class=\"nowrap\">Preceded by</span></th><td class=\"infobox-data\"><a href=\"/wiki/Walter_Dee_Huddleston\" title=\"Walter Dee Huddleston\">Walter Dee Huddleston</a></td><link href=\"mw-data:TemplateStyles:r1066479718\" rel=\"mw-deduplicated-inline-style\"/></tr><tr><th class=\"infobox-header\" colspan=\"2\" style=\"background:lavender;line-height:normal;padding:0.2em;\">Leader of the <a href=\"/wiki/Senate_Republican_Conference\" title=\"Senate Republican Conference\">Senate Republican Conference</a></th></tr><tr><td class=\"infobox-full-data\" colspan=\"2\" style=\"border-bottom:none\"><div style=\"width:100%; margin:0; background-color: lavender\"><b><a href=\"/wiki/Incumbent\" title=\"Incumbent\">Incumbent</a></b></div></td></tr><tr><td class=\"infobox-full-data\" colspan=\"2\" style=\"border-bottom:none\"><span class=\"nowrap\"><b>Assumed office</b></span> <br/>January 3, 2007</td><link href=\"mw-data:TemplateStyles:r1066479718\" rel=\"mw-deduplicated-inline-style\"/></tr><tr><th class=\"infobox-label\" scope=\"row\" style=\"text-align:left\"><span class=\"nowrap\">Preceded by</span></th><td class=\"infobox-data\"><a href=\"/wiki/Bill_Frist\" title=\"Bill Frist\">Bill Frist</a></td><link href=\"mw-data:TemplateStyles:r1066479718\" rel=\"mw-deduplicated-inline-style\"/></tr><tr><th class=\"infobox-header\" colspan=\"2\" style=\"background:lavender;line-height:normal;padding:0.2em;\"><a class=\"mw-redirect\" href=\"/wiki/Senate_Majority_Leader\" title=\"Senate Majority Leader\">Senate Majority Leader</a></th></tr><tr><td class=\"infobox-full-data\" colspan=\"2\" style=\"border-bottom:none\"><span class=\"nowrap\"><b>In office</b></span><br/>January 3, 2015 – January 20, 2021</td><link href=\"mw-data:TemplateStyles:r1066479718\" rel=\"mw-deduplicated-inline-style\"/></tr><tr><th class=\"infobox-label\" scope=\"row\" style=\"text-align:left\">Whip</th><td class=\"infobox-data\">John Cornyn<br/>John Thune</td></tr><tr><th class=\"infobox-label\" scope=\"row\" style=\"text-align:left\"><span class=\"nowrap\">Preceded by</span></th><td class=\"infobox-data\">Harry Reid</td></tr><tr><th class=\"infobox-label\" scope=\"row\" style=\"text-align:left\"><span class=\"nowrap\">Succeeded by</span></th><td class=\"infobox-data\">Chuck Schumer</td><link href=\"mw-data:TemplateStyles:r1066479718\" rel=\"mw-deduplicated-inline-style\"/></tr><tr><th class=\"infobox-header\" colspan=\"2\" style=\"background:lavender;line-height:normal;padding:0.2em;\"><a class=\"mw-redirect\" href=\"/wiki/Senate_Majority_Whip\" title=\"Senate Majority Whip\">Senate Majority Whip</a></th></tr><tr><td class=\"infobox-full-data\" colspan=\"2\" style=\"border-bottom:none\"><span class=\"nowrap\"><b>In office</b></span><br/>January 3, 2003 – January 3, 2007</td><link href=\"mw-data:TemplateStyles:r1066479718\" rel=\"mw-deduplicated-inline-style\"/></tr><tr><th class=\"infobox-label\" scope=\"row\" style=\"text-align:left\">Leader</th><td class=\"infobox-data\">Bill Frist</td></tr><tr><th class=\"infobox-label\" scope=\"row\" style=\"text-align:left\"><span class=\"nowrap\">Preceded by</span></th><td class=\"infobox-data\">Harry Reid</td></tr><tr><th class=\"infobox-label\" scope=\"row\" style=\"text-align:left\"><span class=\"nowrap\">Succeeded by</span></th><td class=\"infobox-data\"><a href=\"/wiki/Dick_Durbin\" title=\"Dick Durbin\">Dick Durbin</a></td><link href=\"mw-data:TemplateStyles:r1066479718\" rel=\"mw-deduplicated-inline-style\"/></tr><tr><th class=\"infobox-header\" colspan=\"2\" style=\"background:lavender;line-height:normal;padding:0.2em;\">Chairman of the <a class=\"mw-redirect\" href=\"/wiki/Senate_Rules_Committee\" title=\"Senate Rules Committee\">Senate Rules Committee</a></th></tr><tr><td class=\"infobox-full-data\" colspan=\"2\" style=\"border-bottom:none\"><span class=\"nowrap\"><b>In office</b></span><br/>January 20, 2001 – June 6, 2001</td><link href=\"mw-data:TemplateStyles:r1066479718\" rel=\"mw-deduplicated-inline-style\"/></tr><tr><th class=\"infobox-label\" scope=\"row\" style=\"text-align:left\"><span class=\"nowrap\">Preceded by</span></th><td class=\"infobox-data\"><a href=\"/wiki/Chris_Dodd\" title=\"Chris Dodd\">Chris Dodd</a></td></tr><tr><th class=\"infobox-label\" scope=\"row\" style=\"text-align:left\"><span class=\"nowrap\">Succeeded by</span></th><td class=\"infobox-data\">Chris Dodd</td><link href=\"mw-data:TemplateStyles:r1066479718\" rel=\"mw-deduplicated-inline-style\"/></tr><tr><td class=\"infobox-full-data\" colspan=\"2\" style=\"border-bottom:none\"><span class=\"nowrap\"><b>In office</b></span><br/>January 3, 1999 – January 3, 2001</td><link href=\"mw-data:TemplateStyles:r1066479718\" rel=\"mw-deduplicated-inline-style\"/></tr><tr><th class=\"infobox-label\" scope=\"row\" style=\"text-align:left\"><span class=\"nowrap\">Preceded by</span></th><td class=\"infobox-data\"><a href=\"/wiki/John_Warner\" title=\"John Warner\">John Warner</a></td></tr><tr><th class=\"infobox-label\" scope=\"row\" style=\"text-align:left\"><span class=\"nowrap\">Succeeded by</span></th><td class=\"infobox-data\">Chris Dodd</td><link href=\"mw-data:TemplateStyles:r1066479718\" rel=\"mw-deduplicated-inline-style\"/></tr><tr><th class=\"infobox-header\" colspan=\"2\" style=\"background:lavender;line-height:normal;padding:0.2em;\"><a href=\"/wiki/Jefferson_County_Judge/Executive\" title=\"Jefferson County Judge/Executive\">Judge/Executive of Jefferson County</a></th></tr><tr><td class=\"infobox-full-data\" colspan=\"2\" style=\"border-bottom:none\"><span class=\"nowrap\"><b>In office</b></span><br/>December 1, 1977 – December 21, 1984</td><link href=\"mw-data:TemplateStyles:r1066479718\" rel=\"mw-deduplicated-inline-style\"/></tr><tr><th class=\"infobox-label\" scope=\"row\" style=\"text-align:left\"><span class=\"nowrap\">Preceded by</span></th><td class=\"infobox-data\">Todd Hollenbach III</td></tr><tr><th class=\"infobox-label\" scope=\"row\" style=\"text-align:left\"><span class=\"nowrap\">Succeeded by</span></th><td class=\"infobox-data\"><a href=\"/wiki/Bremer_Ehrler\" title=\"Bremer Ehrler\">Bremer Ehrler</a></td><link href=\"mw-data:TemplateStyles:r1066479718\" rel=\"mw-deduplicated-inline-style\"/></tr><tr><th class=\"infobox-header\" colspan=\"2\" style=\"background:lavender;line-height:normal;padding:0.2em;\"><a href=\"/wiki/United_States_Assistant_Attorney_General\" title=\"United States Assistant Attorney General\">United States Assistant Attorney General</a> for the <a href=\"/wiki/U.S._Department_of_Justice_Office_of_Legislative_Affairs\" title=\"U.S. Department of Justice Office of Legislative Affairs\">Office of Legislative Affairs</a></th></tr><tr><td class=\"infobox-full-data\" colspan=\"2\" style=\"border-bottom:none\"><div style=\"width:100%; margin:0; background-color: lavender\"><b>Acting</b></div></td></tr><tr><td class=\"infobox-full-data\" colspan=\"2\" style=\"border-bottom:none\"><span class=\"nowrap\"><b>In office</b></span><br/>February 1, 1975 – June 27, 1975</td><link href=\"mw-data:TemplateStyles:r1066479718\" rel=\"mw-deduplicated-inline-style\"/></tr><tr><th class=\"infobox-label\" scope=\"row\" style=\"text-align:left\">President</th><td class=\"infobox-data\"><a href=\"/wiki/Gerald_Ford\" title=\"Gerald Ford\">Gerald Ford</a></td></tr><tr><th class=\"infobox-label\" scope=\"row\" style=\"text-align:left\"><span class=\"nowrap\">Preceded by</span></th><td class=\"infobox-data\">Vincent Rakestraw</td></tr><tr><th class=\"infobox-label\" scope=\"row\" style=\"text-align:left\"><span class=\"nowrap\">Succeeded by</span></th><td class=\"infobox-data\"><a href=\"/wiki/Michael_Uhlmann\" title=\"Michael Uhlmann\">Michael Uhlmann</a></td></tr><tr style=\"display:none\"><td colspan=\"2\">\n",
      "</td></tr><tr><th class=\"infobox-header\" colspan=\"2\" style=\"background:lavender\">Personal details</th></tr><tr><th class=\"infobox-label\" scope=\"row\">Born</th><td class=\"infobox-data\"><div class=\"nickname\" style=\"display:inline\"><span class=\"nowrap\">Addison Mitchell McConnell III</span></div><br/><span style=\"display:none\"> (<span class=\"bday\">1942-02-20</span>) </span>February 20, 1942<span class=\"noprint ForceAgeToShow\"> (age 80)</span><br/><a href=\"/wiki/Sheffield,_Alabama\" title=\"Sheffield, Alabama\">Sheffield, Alabama</a>, U.S.</td></tr><tr><th class=\"infobox-label\" scope=\"row\">Political party</th><td class=\"infobox-data\"><a href=\"/wiki/Republican_Party_(United_States)\" title=\"Republican Party (United States)\">Republican</a></td></tr><tr><th class=\"infobox-label\" scope=\"row\">Spouses</th><td class=\"infobox-data\"><div class=\"plainlist\">\n",
      "<ul><li class=\"mw-empty-elt\"></li></ul>\n",
      "<div style=\"display:inline;white-space:nowrap;\"><div style=\"display:inline-block;line-height:normal;margin-top:1px;white-space:normal;\">Sherrill Redmon</div>\n",
      "<div style=\"line-height:0;margin-bottom:-2px;\">​</div> <div style=\"display:inline-block;margin-bottom:1px;\">​</div>(<abbr title=\"married\">m.</abbr> 1968; <abbr title=\"divorced\">div.</abbr> 1980)<wbr/>​</div>\n",
      "<ul><li class=\"mw-empty-elt\"></li></ul>\n",
      "<div style=\"display:inline;white-space:nowrap;\"><div style=\"display:inline-block;line-height:normal;\"><a href=\"/wiki/Elaine_Chao\" title=\"Elaine Chao\">Elaine Chao</a></div> <div style=\"display:inline-block;\">​</div>(<abbr title=\"married\">m.</abbr> <style data-mw-deduplicate=\"TemplateStyles:r1038841319\">.mw-parser-output .tooltip-dotted{border-bottom:1px dotted;cursor:help}</style><span class=\"rt-commentedText tooltip\" title=\"February 6, 1993\">1993</span>)<wbr/>​</div>\n",
      "</div></td></tr><tr><th class=\"infobox-label\" scope=\"row\">Children</th><td class=\"infobox-data\">3</td></tr><tr><th class=\"infobox-label\" scope=\"row\">Residence(s)</th><td class=\"infobox-data label\"><a href=\"/wiki/Louisville,_Kentucky\" title=\"Louisville, Kentucky\">Louisville, Kentucky</a>, U.S.</td></tr><tr><th class=\"infobox-label\" scope=\"row\">Education</th><td class=\"infobox-data\"><div class=\"plainlist\">\n",
      "<ul><li><a href=\"/wiki/University_of_Louisville\" title=\"University of Louisville\">University of Louisville</a> (<a href=\"/wiki/Bachelor_of_Arts\" title=\"Bachelor of Arts\">BA</a>)</li>\n",
      "<li><a href=\"/wiki/University_of_Kentucky\" title=\"University of Kentucky\">University of Kentucky</a> (<a href=\"/wiki/Juris_Doctor\" title=\"Juris Doctor\">JD</a>)</li></ul>\n",
      "</div></td></tr><tr><th class=\"infobox-label\" scope=\"row\">Signature</th><td class=\"infobox-data\"><a class=\"image\" href=\"/wiki/File:Mitch_McConnell_Signature.svg\" title=\"Mitch McConnell's signature\"><img alt=\"\" data-file-height=\"60\" data-file-width=\"245\" decoding=\"async\" height=\"31\" src=\"//upload.wikimedia.org/wikipedia/commons/thumb/f/f8/Mitch_McConnell_Signature.svg/128px-Mitch_McConnell_Signature.svg.png\" srcset=\"//upload.wikimedia.org/wikipedia/commons/thumb/f/f8/Mitch_McConnell_Signature.svg/192px-Mitch_McConnell_Signature.svg.png 1.5x, //upload.wikimedia.org/wikipedia/commons/thumb/f/f8/Mitch_McConnell_Signature.svg/256px-Mitch_McConnell_Signature.svg.png 2x\" width=\"128\"/></a></td></tr><tr><th class=\"infobox-label\" scope=\"row\">Website</th><td class=\"infobox-data\"><span class=\"url\"><a class=\"external text\" href=\"https://mcconnell.senate.gov\" rel=\"nofollow\">Senate website</a></span></td></tr><tr><th class=\"infobox-header\" colspan=\"2\" style=\"background:lavender\">Military service</th></tr><tr><th class=\"infobox-label\" scope=\"row\">Allegiance</th><td class=\"infobox-data\"><span class=\"flagicon\"><img alt=\"\" class=\"thumbborder\" data-file-height=\"650\" data-file-width=\"1235\" decoding=\"async\" height=\"12\" src=\"//upload.wikimedia.org/wikipedia/en/thumb/a/a4/Flag_of_the_United_States.svg/23px-Flag_of_the_United_States.svg.png\" srcset=\"//upload.wikimedia.org/wikipedia/en/thumb/a/a4/Flag_of_the_United_States.svg/35px-Flag_of_the_United_States.svg.png 1.5x, //upload.wikimedia.org/wikipedia/en/thumb/a/a4/Flag_of_the_United_States.svg/46px-Flag_of_the_United_States.svg.png 2x\" width=\"23\"/> </span><a href=\"/wiki/United_States\" title=\"United States\">United States</a></td></tr><tr><th class=\"infobox-label\" scope=\"row\">Branch/service</th><td class=\"infobox-data\"><span class=\"flagicon\"><img alt=\"\" class=\"thumbborder\" data-file-height=\"4992\" data-file-width=\"6336\" decoding=\"async\" height=\"17\" src=\"//upload.wikimedia.org/wikipedia/commons/thumb/e/e6/Flag_of_the_United_States_Army.svg/22px-Flag_of_the_United_States_Army.svg.png\" srcset=\"//upload.wikimedia.org/wikipedia/commons/thumb/e/e6/Flag_of_the_United_States_Army.svg/33px-Flag_of_the_United_States_Army.svg.png 1.5x, //upload.wikimedia.org/wikipedia/commons/thumb/e/e6/Flag_of_the_United_States_Army.svg/43px-Flag_of_the_United_States_Army.svg.png 2x\" width=\"22\"/> </span><a href=\"/wiki/United_States_Army\" title=\"United States Army\">United States Army</a></td></tr><tr><th class=\"infobox-label\" scope=\"row\">Years of service</th><td class=\"infobox-data\">July 9, 1967, to August 15, 1967 (37 days) (medical separation)</td></tr><tr><th class=\"infobox-label\" scope=\"row\">Unit</th><td class=\"infobox-data\"><a href=\"/wiki/United_States_Army_Reserve\" title=\"United States Army Reserve\">United States Army Reserve</a></td></tr><tr><td class=\"infobox-below\" colspan=\"2\" style=\"border-top: 1px solid right; font-size: 95%\"><div></div></td></tr></tbody></table>]\n"
     ]
    }
   ],
   "source": [
    "infobox = soup.find_all(class_=\"infobox\")\n",
    "print(infobox)"
   ]
  },
  {
   "cell_type": "markdown",
   "id": "49913e01",
   "metadata": {},
   "source": [
    "3. Make a dataframe"
   ]
  },
  {
   "cell_type": "code",
   "execution_count": 45,
   "id": "445b8ede",
   "metadata": {},
   "outputs": [],
   "source": [
    "all_keys = [a.text for a in soup.find_all(class_ =\"infobox-label\")]\n",
    "all_keys.insert(0, 'Full Name')\n",
    "\n",
    "#full_name = [a.text for a in soup.find_all(class_ = \"fn\")]\n",
    "all_values = [a.text for a in soup.find_all(class_ =\"infobox-data\")]\n",
    "all_values.insert(0, 'Mitch McConnell')"
   ]
  },
  {
   "cell_type": "code",
   "execution_count": 46,
   "id": "f3293725",
   "metadata": {},
   "outputs": [
    {
     "data": {
      "text/plain": [
       "['Full Name', 'Whip', 'Preceded by', 'Whip', 'Preceded by']"
      ]
     },
     "execution_count": 46,
     "metadata": {},
     "output_type": "execute_result"
    }
   ],
   "source": [
    "all_keys[0:5]"
   ]
  },
  {
   "cell_type": "code",
   "execution_count": 47,
   "id": "e85bcb07",
   "metadata": {},
   "outputs": [
    {
     "data": {
      "text/plain": [
       "['Mitch McConnell',\n",
       " 'John Thune',\n",
       " 'Chuck Schumer',\n",
       " 'Trent LottJon KylJohn Cornyn',\n",
       " 'Harry Reid']"
      ]
     },
     "execution_count": 47,
     "metadata": {},
     "output_type": "execute_result"
    }
   ],
   "source": [
    "all_values[0:5]"
   ]
  },
  {
   "cell_type": "code",
   "execution_count": 49,
   "id": "9a318560",
   "metadata": {},
   "outputs": [
    {
     "data": {
      "text/html": [
       "<div>\n",
       "<style scoped>\n",
       "    .dataframe tbody tr th:only-of-type {\n",
       "        vertical-align: middle;\n",
       "    }\n",
       "\n",
       "    .dataframe tbody tr th {\n",
       "        vertical-align: top;\n",
       "    }\n",
       "\n",
       "    .dataframe thead th {\n",
       "        text-align: right;\n",
       "    }\n",
       "</style>\n",
       "<table border=\"1\" class=\"dataframe\">\n",
       "  <thead>\n",
       "    <tr style=\"text-align: right;\">\n",
       "      <th></th>\n",
       "      <th>key</th>\n",
       "      <th>value</th>\n",
       "    </tr>\n",
       "  </thead>\n",
       "  <tbody>\n",
       "    <tr>\n",
       "      <th>0</th>\n",
       "      <td>Full Name</td>\n",
       "      <td>Mitch McConnell</td>\n",
       "    </tr>\n",
       "    <tr>\n",
       "      <th>1</th>\n",
       "      <td>Whip</td>\n",
       "      <td>John Thune</td>\n",
       "    </tr>\n",
       "    <tr>\n",
       "      <th>2</th>\n",
       "      <td>Preceded by</td>\n",
       "      <td>Chuck Schumer</td>\n",
       "    </tr>\n",
       "    <tr>\n",
       "      <th>3</th>\n",
       "      <td>Whip</td>\n",
       "      <td>Trent LottJon KylJohn Cornyn</td>\n",
       "    </tr>\n",
       "    <tr>\n",
       "      <th>4</th>\n",
       "      <td>Preceded by</td>\n",
       "      <td>Harry Reid</td>\n",
       "    </tr>\n",
       "  </tbody>\n",
       "</table>\n",
       "</div>"
      ],
      "text/plain": [
       "           key                         value\n",
       "0    Full Name               Mitch McConnell\n",
       "1         Whip                    John Thune\n",
       "2  Preceded by                 Chuck Schumer\n",
       "3         Whip  Trent LottJon KylJohn Cornyn\n",
       "4  Preceded by                    Harry Reid"
      ]
     },
     "execution_count": 49,
     "metadata": {},
     "output_type": "execute_result"
    }
   ],
   "source": [
    "df = pd.DataFrame({'key': all_keys, 'value':all_values})\n",
    "df.head()"
   ]
  },
  {
   "cell_type": "code",
   "execution_count": 37,
   "id": "bba44d6a",
   "metadata": {},
   "outputs": [],
   "source": [
    "newdf = df[df.key.isin([\"Full Name\", \"Political party\",\"Children\"])]"
   ]
  },
  {
   "cell_type": "code",
   "execution_count": 38,
   "id": "d5b6524d",
   "metadata": {},
   "outputs": [
    {
     "data": {
      "text/html": [
       "<div>\n",
       "<style scoped>\n",
       "    .dataframe tbody tr th:only-of-type {\n",
       "        vertical-align: middle;\n",
       "    }\n",
       "\n",
       "    .dataframe tbody tr th {\n",
       "        vertical-align: top;\n",
       "    }\n",
       "\n",
       "    .dataframe thead th {\n",
       "        text-align: right;\n",
       "    }\n",
       "</style>\n",
       "<table border=\"1\" class=\"dataframe\">\n",
       "  <thead>\n",
       "    <tr style=\"text-align: right;\">\n",
       "      <th></th>\n",
       "      <th>key</th>\n",
       "      <th>value</th>\n",
       "    </tr>\n",
       "  </thead>\n",
       "  <tbody>\n",
       "    <tr>\n",
       "      <th>0</th>\n",
       "      <td>Full Name</td>\n",
       "      <td>Mitch McConnell</td>\n",
       "    </tr>\n",
       "    <tr>\n",
       "      <th>24</th>\n",
       "      <td>Political party</td>\n",
       "      <td>Republican</td>\n",
       "    </tr>\n",
       "    <tr>\n",
       "      <th>26</th>\n",
       "      <td>Children</td>\n",
       "      <td>3</td>\n",
       "    </tr>\n",
       "  </tbody>\n",
       "</table>\n",
       "</div>"
      ],
      "text/plain": [
       "                key            value\n",
       "0         Full Name  Mitch McConnell\n",
       "24  Political party       Republican\n",
       "26         Children                3"
      ]
     },
     "execution_count": 38,
     "metadata": {},
     "output_type": "execute_result"
    }
   ],
   "source": [
    "newdf"
   ]
  },
  {
   "cell_type": "markdown",
   "id": "659dceba",
   "metadata": {},
   "source": [
    "4. Make a function"
   ]
  },
  {
   "cell_type": "code",
   "execution_count": 40,
   "id": "ec07b457",
   "metadata": {},
   "outputs": [],
   "source": [
    "def get_wiki_info(url):\n",
    "    response = requests.get(url)\n",
    "    content = response.content\n",
    "    soup = BeautifulSoup(response.content, 'html.parser')\n",
    "    \n",
    "    all_keys = [a.text for a in soup.find_all(class_ =\"infobox-label\")]\n",
    "    all_keys.insert(0, 'Full Name')\n",
    "    \n",
    "    full_name = [a.text for a in soup.find_all(class_ = \"fn\")]\n",
    "    all_values = [a.text for a in soup.find_all(class_ =\"infobox-data\")]\n",
    "    all_values.insert(0, full_name[0])\n",
    "    \n",
    "    if \"Children\" in all_keys:\n",
    "        pass\n",
    "    else:\n",
    "        all_keys.append('Children')\n",
    "        all_values.append('NA')\n",
    "        \n",
    "    df = pd.DataFrame({'key': all_keys, 'value':all_values})\n",
    "    newdf = df[df.key.isin([\"Full Name\", \"Political party\",\"Children\"])]\n",
    "    return newdf"
   ]
  },
  {
   "cell_type": "code",
   "execution_count": 41,
   "id": "92d3785d",
   "metadata": {},
   "outputs": [
    {
     "data": {
      "text/html": [
       "<div>\n",
       "<style scoped>\n",
       "    .dataframe tbody tr th:only-of-type {\n",
       "        vertical-align: middle;\n",
       "    }\n",
       "\n",
       "    .dataframe tbody tr th {\n",
       "        vertical-align: top;\n",
       "    }\n",
       "\n",
       "    .dataframe thead th {\n",
       "        text-align: right;\n",
       "    }\n",
       "</style>\n",
       "<table border=\"1\" class=\"dataframe\">\n",
       "  <thead>\n",
       "    <tr style=\"text-align: right;\">\n",
       "      <th></th>\n",
       "      <th>key</th>\n",
       "      <th>value</th>\n",
       "    </tr>\n",
       "  </thead>\n",
       "  <tbody>\n",
       "    <tr>\n",
       "      <th>0</th>\n",
       "      <td>Full Name</td>\n",
       "      <td>Tammy Duckworth</td>\n",
       "    </tr>\n",
       "    <tr>\n",
       "      <th>13</th>\n",
       "      <td>Political party</td>\n",
       "      <td>Democratic</td>\n",
       "    </tr>\n",
       "    <tr>\n",
       "      <th>15</th>\n",
       "      <td>Children</td>\n",
       "      <td>2</td>\n",
       "    </tr>\n",
       "  </tbody>\n",
       "</table>\n",
       "</div>"
      ],
      "text/plain": [
       "                key            value\n",
       "0         Full Name  Tammy Duckworth\n",
       "13  Political party       Democratic\n",
       "15         Children                2"
      ]
     },
     "execution_count": 41,
     "metadata": {},
     "output_type": "execute_result"
    }
   ],
   "source": [
    "get_wiki_info('https://en.wikipedia.org/wiki/Tammy_Duckworth')"
   ]
  },
  {
   "cell_type": "code",
   "execution_count": 42,
   "id": "396e6798",
   "metadata": {},
   "outputs": [
    {
     "data": {
      "text/html": [
       "<div>\n",
       "<style scoped>\n",
       "    .dataframe tbody tr th:only-of-type {\n",
       "        vertical-align: middle;\n",
       "    }\n",
       "\n",
       "    .dataframe tbody tr th {\n",
       "        vertical-align: top;\n",
       "    }\n",
       "\n",
       "    .dataframe thead th {\n",
       "        text-align: right;\n",
       "    }\n",
       "</style>\n",
       "<table border=\"1\" class=\"dataframe\">\n",
       "  <thead>\n",
       "    <tr style=\"text-align: right;\">\n",
       "      <th></th>\n",
       "      <th>key</th>\n",
       "      <th>value</th>\n",
       "    </tr>\n",
       "  </thead>\n",
       "  <tbody>\n",
       "    <tr>\n",
       "      <th>0</th>\n",
       "      <td>Full Name</td>\n",
       "      <td>Susan Collins</td>\n",
       "    </tr>\n",
       "    <tr>\n",
       "      <th>7</th>\n",
       "      <td>Political party</td>\n",
       "      <td>Republican</td>\n",
       "    </tr>\n",
       "    <tr>\n",
       "      <th>13</th>\n",
       "      <td>Children</td>\n",
       "      <td>NA</td>\n",
       "    </tr>\n",
       "  </tbody>\n",
       "</table>\n",
       "</div>"
      ],
      "text/plain": [
       "                key          value\n",
       "0         Full Name  Susan Collins\n",
       "7   Political party     Republican\n",
       "13         Children             NA"
      ]
     },
     "execution_count": 42,
     "metadata": {},
     "output_type": "execute_result"
    }
   ],
   "source": [
    "get_wiki_info('https://en.wikipedia.org/wiki/Susan_Collins')"
   ]
  },
  {
   "cell_type": "markdown",
   "id": "4cf6c0da",
   "metadata": {},
   "source": [
    "5. Get all senators' pages"
   ]
  },
  {
   "cell_type": "code",
   "execution_count": 63,
   "id": "89e267d9",
   "metadata": {},
   "outputs": [],
   "source": [
    "all_request = requests.get(\"https://en.wikipedia.org/wiki/List_of_current_United_States_senators\")\n",
    "all_content = all_request.content\n",
    "all_soup = BeautifulSoup(all_request.content, 'html.parser')"
   ]
  },
  {
   "cell_type": "code",
   "execution_count": 64,
   "id": "fd5ea0e9",
   "metadata": {},
   "outputs": [
    {
     "name": "stdout",
     "output_type": "stream",
     "text": [
      "[<span class=\"vcard\"><span class=\"fn\"><a href=\"/wiki/Kamala_Harris\" title=\"Kamala Harris\">Kamala Harris</a></span></span>, <span class=\"vcard\"><span class=\"fn\"><a href=\"/wiki/Patrick_Leahy\" title=\"Patrick Leahy\">Patrick Leahy</a></span></span>, <span class=\"vcard\"><span class=\"fn\"><a href=\"/wiki/Chuck_Schumer\" title=\"Chuck Schumer\">Chuck Schumer</a></span></span>, <span class=\"vcard\"><span class=\"fn\"><a href=\"/wiki/Dick_Durbin\" title=\"Dick Durbin\">Dick Durbin</a></span></span>, <span class=\"vcard\"><span class=\"fn\"><a href=\"/wiki/Patty_Murray\" title=\"Patty Murray\">Patty Murray</a></span></span>, <span class=\"vcard\"><span class=\"fn\"><a href=\"/wiki/Debbie_Stabenow\" title=\"Debbie Stabenow\">Debbie Stabenow</a></span></span>, <span class=\"vcard\"><span class=\"fn\"><a href=\"/wiki/Mark_Warner\" title=\"Mark Warner\">Mark Warner</a></span></span>, <span class=\"vcard\"><span class=\"fn\"><a href=\"/wiki/Elizabeth_Warren\" title=\"Elizabeth Warren\">Elizabeth Warren</a></span></span>, <span class=\"vcard\"><span class=\"fn\"><a href=\"/wiki/Amy_Klobuchar\" title=\"Amy Klobuchar\">Amy Klobuchar</a></span></span>, <span class=\"vcard\"><span class=\"fn\"><a href=\"/wiki/Bernie_Sanders\" title=\"Bernie Sanders\">Bernie Sanders</a></span></span>, <span class=\"vcard\"><span class=\"fn\"><a href=\"/wiki/Joe_Manchin\" title=\"Joe Manchin\">Joe Manchin</a></span></span>, <span class=\"vcard\"><span class=\"fn\"><a href=\"/wiki/Cory_Booker\" title=\"Cory Booker\">Cory Booker</a></span></span>, <span class=\"vcard\"><span class=\"fn\"><a href=\"/wiki/Tammy_Baldwin\" title=\"Tammy Baldwin\">Tammy Baldwin</a></span></span>, <span class=\"vcard\"><span class=\"fn\"><a href=\"/wiki/Gary_Peters\" title=\"Gary Peters\">Gary Peters</a></span></span>, <span class=\"vcard\"><span class=\"fn\"><a href=\"/wiki/Catherine_Cortez_Masto\" title=\"Catherine Cortez Masto\">Catherine Cortez Masto</a></span></span>, <span class=\"vcard\"><span class=\"fn\"><a href=\"/wiki/Jeff_Merkley\" title=\"Jeff Merkley\">Jeff Merkley</a></span></span>, <span class=\"vcard\"><span class=\"fn\"><a href=\"/wiki/Brian_Schatz\" title=\"Brian Schatz\">Brian Schatz</a></span></span>, <span class=\"vcard\"><span class=\"fn\"><a href=\"/wiki/Mitch_McConnell\" title=\"Mitch McConnell\">Mitch McConnell</a></span></span>, <span class=\"vcard\"><span class=\"fn\"><a href=\"/wiki/John_Thune\" title=\"John Thune\">John Thune</a></span></span>, <span class=\"vcard\"><span class=\"fn\"><a href=\"/wiki/John_Barrasso\" title=\"John Barrasso\">John Barrasso</a></span></span>, <span class=\"vcard\"><span class=\"fn\"><a href=\"/wiki/Roy_Blunt\" title=\"Roy Blunt\">Roy Blunt</a></span></span>, <span class=\"vcard\"><span class=\"fn\"><a href=\"/wiki/Joni_Ernst\" title=\"Joni Ernst\">Joni Ernst</a></span></span>, <span class=\"vcard\"><span class=\"fn\"><a href=\"/wiki/Rick_Scott\" title=\"Rick Scott\">Rick Scott</a></span></span>, <span class=\"vcard\"><span class=\"fn\"><a class=\"mw-redirect\" href=\"/wiki/Mike_Lee_(American_politician)\" title=\"Mike Lee (American politician)\">Mike Lee</a></span></span>, <span class=\"vcard\"><span class=\"fn\"><a href=\"/wiki/Mike_Crapo\" title=\"Mike Crapo\">Mike Crapo</a></span></span>, <span class=\"vcard\"><span class=\"fn\"><a href=\"/wiki/Chuck_Grassley\" title=\"Chuck Grassley\">Chuck Grassley</a></span></span>, <span class=\"vcard\"><span class=\"fn\"><a href=\"/wiki/Richard_Shelby\" title=\"Richard Shelby\">Richard Shelby</a></span></span>, <span class=\"vcard\"><span class=\"fn\"><a href=\"/wiki/Tommy_Tuberville\" title=\"Tommy Tuberville\">Tommy Tuberville</a></span></span>, <span class=\"vcard\"><span class=\"fn\"><a href=\"/wiki/Lisa_Murkowski\" title=\"Lisa Murkowski\">Lisa Murkowski</a></span></span>, <span class=\"vcard\"><span class=\"fn\"><a href=\"/wiki/Dan_Sullivan_(U.S._senator)\" title=\"Dan Sullivan (U.S. senator)\">Dan Sullivan</a></span></span>, <span class=\"vcard\"><span class=\"fn\"><a href=\"/wiki/Kyrsten_Sinema\" title=\"Kyrsten Sinema\">Kyrsten Sinema</a></span></span>, <span class=\"vcard\"><span class=\"fn\"><a href=\"/wiki/Mark_Kelly\" title=\"Mark Kelly\">Mark Kelly</a></span></span>, <span class=\"vcard\"><span class=\"fn\"><a href=\"/wiki/John_Boozman\" title=\"John Boozman\">John Boozman</a></span></span>, <span class=\"vcard\"><span class=\"fn\"><a href=\"/wiki/Tom_Cotton\" title=\"Tom Cotton\">Tom Cotton</a></span></span>, <span class=\"vcard\"><span class=\"fn\"><a href=\"/wiki/Dianne_Feinstein\" title=\"Dianne Feinstein\">Dianne Feinstein</a></span></span>, <span class=\"vcard\"><span class=\"fn\"><a href=\"/wiki/Alex_Padilla\" title=\"Alex Padilla\">Alex Padilla</a></span></span>, <span class=\"vcard\"><span class=\"fn\"><a href=\"/wiki/Michael_Bennet\" title=\"Michael Bennet\">Michael Bennet</a></span></span>, <span class=\"vcard\"><span class=\"fn\"><a href=\"/wiki/John_Hickenlooper\" title=\"John Hickenlooper\">John Hickenlooper</a></span></span>, <span class=\"vcard\"><span class=\"fn\"><a href=\"/wiki/Richard_Blumenthal\" title=\"Richard Blumenthal\">Richard Blumenthal</a></span></span>, <span class=\"vcard\"><span class=\"fn\"><a href=\"/wiki/Chris_Murphy\" title=\"Chris Murphy\">Chris Murphy</a></span></span>, <span class=\"vcard\"><span class=\"fn\"><a href=\"/wiki/Tom_Carper\" title=\"Tom Carper\">Tom Carper</a></span></span>, <span class=\"vcard\"><span class=\"fn\"><a href=\"/wiki/Chris_Coons\" title=\"Chris Coons\">Chris Coons</a></span></span>, <span class=\"vcard\"><span class=\"fn\"><a href=\"/wiki/Marco_Rubio\" title=\"Marco Rubio\">Marco Rubio</a></span></span>, <span class=\"vcard\"><span class=\"fn\"><a href=\"/wiki/Rick_Scott\" title=\"Rick Scott\">Rick Scott</a></span></span>, <span class=\"vcard\"><span class=\"fn\"><a href=\"/wiki/Jon_Ossoff\" title=\"Jon Ossoff\">Jon Ossoff</a></span></span>, <span class=\"vcard\"><span class=\"fn\"><a href=\"/wiki/Raphael_Warnock\" title=\"Raphael Warnock\">Raphael Warnock</a></span></span>, <span class=\"vcard\"><span class=\"fn\"><a href=\"/wiki/Brian_Schatz\" title=\"Brian Schatz\">Brian Schatz</a></span></span>, <span class=\"vcard\"><span class=\"fn\"><a href=\"/wiki/Mazie_Hirono\" title=\"Mazie Hirono\">Mazie Hirono</a></span></span>, <span class=\"vcard\"><span class=\"fn\"><a href=\"/wiki/Mike_Crapo\" title=\"Mike Crapo\">Mike Crapo</a></span></span>, <span class=\"vcard\"><span class=\"fn\"><a href=\"/wiki/Jim_Risch\" title=\"Jim Risch\">Jim Risch</a></span></span>, <span class=\"vcard\"><span class=\"fn\"><a href=\"/wiki/Dick_Durbin\" title=\"Dick Durbin\">Dick Durbin</a></span></span>, <span class=\"vcard\"><span class=\"fn\"><a href=\"/wiki/Tammy_Duckworth\" title=\"Tammy Duckworth\">Tammy Duckworth</a></span></span>, <span class=\"vcard\"><span class=\"fn\"><a href=\"/wiki/Todd_Young\" title=\"Todd Young\">Todd Young</a></span></span>, <span class=\"vcard\"><span class=\"fn\"><a href=\"/wiki/Mike_Braun\" title=\"Mike Braun\">Mike Braun</a></span></span>, <span class=\"vcard\"><span class=\"fn\"><a href=\"/wiki/Chuck_Grassley\" title=\"Chuck Grassley\">Chuck Grassley</a></span></span>, <span class=\"vcard\"><span class=\"fn\"><a href=\"/wiki/Joni_Ernst\" title=\"Joni Ernst\">Joni Ernst</a></span></span>, <span class=\"vcard\"><span class=\"fn\"><a href=\"/wiki/Jerry_Moran\" title=\"Jerry Moran\">Jerry Moran</a></span></span>, <span class=\"vcard\"><span class=\"fn\"><a href=\"/wiki/Roger_Marshall_(politician)\" title=\"Roger Marshall (politician)\">Roger Marshall</a></span></span>, <span class=\"vcard\"><span class=\"fn\"><a href=\"/wiki/Mitch_McConnell\" title=\"Mitch McConnell\">Mitch McConnell</a></span></span>, <span class=\"vcard\"><span class=\"fn\"><a href=\"/wiki/Rand_Paul\" title=\"Rand Paul\">Rand Paul</a></span></span>, <span class=\"vcard\"><span class=\"fn\"><a href=\"/wiki/Bill_Cassidy\" title=\"Bill Cassidy\">Bill Cassidy</a></span></span>, <span class=\"vcard\"><span class=\"fn\"><a href=\"/wiki/John_Kennedy_(Louisiana_politician)\" title=\"John Kennedy (Louisiana politician)\">John Kennedy</a></span></span>, <span class=\"vcard\"><span class=\"fn\"><a href=\"/wiki/Susan_Collins\" title=\"Susan Collins\">Susan Collins</a></span></span>, <span class=\"vcard\"><span class=\"fn\"><a href=\"/wiki/Angus_King\" title=\"Angus King\">Angus King</a></span></span>, <span class=\"vcard\"><span class=\"fn\"><a href=\"/wiki/Ben_Cardin\" title=\"Ben Cardin\">Ben Cardin</a></span></span>, <span class=\"vcard\"><span class=\"fn\"><a href=\"/wiki/Chris_Van_Hollen\" title=\"Chris Van Hollen\">Chris Van Hollen</a></span></span>, <span class=\"vcard\"><span class=\"fn\"><a href=\"/wiki/Elizabeth_Warren\" title=\"Elizabeth Warren\">Elizabeth Warren</a></span></span>, <span class=\"vcard\"><span class=\"fn\"><a href=\"/wiki/Ed_Markey\" title=\"Ed Markey\">Ed Markey</a></span></span>, <span class=\"vcard\"><span class=\"fn\"><a href=\"/wiki/Debbie_Stabenow\" title=\"Debbie Stabenow\">Debbie Stabenow</a></span></span>, <span class=\"vcard\"><span class=\"fn\"><a href=\"/wiki/Gary_Peters\" title=\"Gary Peters\">Gary Peters</a></span></span>, <span class=\"vcard\"><span class=\"fn\"><a href=\"/wiki/Amy_Klobuchar\" title=\"Amy Klobuchar\">Amy Klobuchar</a></span></span>, <span class=\"vcard\"><span class=\"fn\"><a href=\"/wiki/Tina_Smith\" title=\"Tina Smith\">Tina Smith</a></span></span>, <span class=\"vcard\"><span class=\"fn\"><a href=\"/wiki/Roger_Wicker\" title=\"Roger Wicker\">Roger Wicker</a></span></span>, <span class=\"vcard\"><span class=\"fn\"><a href=\"/wiki/Cindy_Hyde-Smith\" title=\"Cindy Hyde-Smith\">Cindy Hyde-Smith</a></span></span>, <span class=\"vcard\"><span class=\"fn\"><a href=\"/wiki/Roy_Blunt\" title=\"Roy Blunt\">Roy Blunt</a></span></span>, <span class=\"vcard\"><span class=\"fn\"><a href=\"/wiki/Josh_Hawley\" title=\"Josh Hawley\">Josh Hawley</a></span></span>, <span class=\"vcard\"><span class=\"fn\"><a href=\"/wiki/Jon_Tester\" title=\"Jon Tester\">Jon Tester</a></span></span>, <span class=\"vcard\"><span class=\"fn\"><a href=\"/wiki/Steve_Daines\" title=\"Steve Daines\">Steve Daines</a></span></span>, <span class=\"vcard\"><span class=\"fn\"><a href=\"/wiki/Deb_Fischer\" title=\"Deb Fischer\">Deb Fischer</a></span></span>, <span class=\"vcard\"><span class=\"fn\"><a href=\"/wiki/Ben_Sasse\" title=\"Ben Sasse\">Ben Sasse</a></span></span>, <span class=\"vcard\"><span class=\"fn\"><a href=\"/wiki/Catherine_Cortez_Masto\" title=\"Catherine Cortez Masto\">Catherine Cortez Masto</a></span></span>, <span class=\"vcard\"><span class=\"fn\"><a href=\"/wiki/Jacky_Rosen\" title=\"Jacky Rosen\">Jacky Rosen</a></span></span>, <span class=\"vcard\"><span class=\"fn\"><a href=\"/wiki/Jeanne_Shaheen\" title=\"Jeanne Shaheen\">Jeanne Shaheen</a></span></span>, <span class=\"vcard\"><span class=\"fn\"><a href=\"/wiki/Maggie_Hassan\" title=\"Maggie Hassan\">Maggie Hassan</a></span></span>, <span class=\"vcard\"><span class=\"fn\"><a href=\"/wiki/Bob_Menendez\" title=\"Bob Menendez\">Bob Menendez</a></span></span>, <span class=\"vcard\"><span class=\"fn\"><a href=\"/wiki/Cory_Booker\" title=\"Cory Booker\">Cory Booker</a></span></span>, <span class=\"vcard\"><span class=\"fn\"><a href=\"/wiki/Martin_Heinrich\" title=\"Martin Heinrich\">Martin Heinrich</a></span></span>, <span class=\"vcard\"><span class=\"fn\"><a href=\"/wiki/Ben_Ray_Luj%C3%A1n\" title=\"Ben Ray Luján\">Ben Ray Luján</a></span></span>, <span class=\"vcard\"><span class=\"fn\"><a href=\"/wiki/Chuck_Schumer\" title=\"Chuck Schumer\">Chuck Schumer</a></span></span>, <span class=\"vcard\"><span class=\"fn\"><a href=\"/wiki/Kirsten_Gillibrand\" title=\"Kirsten Gillibrand\">Kirsten Gillibrand</a></span></span>, <span class=\"vcard\"><span class=\"fn\"><a href=\"/wiki/Richard_Burr\" title=\"Richard Burr\">Richard Burr</a></span></span>, <span class=\"vcard\"><span class=\"fn\"><a href=\"/wiki/Thom_Tillis\" title=\"Thom Tillis\">Thom Tillis</a></span></span>, <span class=\"vcard\"><span class=\"fn\"><a href=\"/wiki/John_Hoeven\" title=\"John Hoeven\">John Hoeven</a></span></span>, <span class=\"vcard\"><span class=\"fn\"><a href=\"/wiki/Kevin_Cramer\" title=\"Kevin Cramer\">Kevin Cramer</a></span></span>, <span class=\"vcard\"><span class=\"fn\"><a href=\"/wiki/Sherrod_Brown\" title=\"Sherrod Brown\">Sherrod Brown</a></span></span>, <span class=\"vcard\"><span class=\"fn\"><a href=\"/wiki/Rob_Portman\" title=\"Rob Portman\">Rob Portman</a></span></span>, <span class=\"vcard\"><span class=\"fn\"><a href=\"/wiki/Jim_Inhofe\" title=\"Jim Inhofe\">Jim Inhofe</a></span></span>, <span class=\"vcard\"><span class=\"fn\"><a href=\"/wiki/James_Lankford\" title=\"James Lankford\">James Lankford</a></span></span>, <span class=\"vcard\"><span class=\"fn\"><a href=\"/wiki/Ron_Wyden\" title=\"Ron Wyden\">Ron Wyden</a></span></span>, <span class=\"vcard\"><span class=\"fn\"><a href=\"/wiki/Jeff_Merkley\" title=\"Jeff Merkley\">Jeff Merkley</a></span></span>, <span class=\"vcard\"><span class=\"fn\"><a href=\"/wiki/Bob_Casey_Jr.\" title=\"Bob Casey Jr.\">Bob Casey Jr.</a></span></span>, <span class=\"vcard\"><span class=\"fn\"><a href=\"/wiki/Pat_Toomey\" title=\"Pat Toomey\">Pat Toomey</a></span></span>, <span class=\"vcard\"><span class=\"fn\"><a href=\"/wiki/Jack_Reed_(Rhode_Island_politician)\" title=\"Jack Reed (Rhode Island politician)\">Jack Reed</a></span></span>, <span class=\"vcard\"><span class=\"fn\"><a href=\"/wiki/Sheldon_Whitehouse\" title=\"Sheldon Whitehouse\">Sheldon Whitehouse</a></span></span>, <span class=\"vcard\"><span class=\"fn\"><a href=\"/wiki/Lindsey_Graham\" title=\"Lindsey Graham\">Lindsey Graham</a></span></span>, <span class=\"vcard\"><span class=\"fn\"><a href=\"/wiki/Tim_Scott\" title=\"Tim Scott\">Tim Scott</a></span></span>, <span class=\"vcard\"><span class=\"fn\"><a href=\"/wiki/John_Thune\" title=\"John Thune\">John Thune</a></span></span>, <span class=\"vcard\"><span class=\"fn\"><a href=\"/wiki/Mike_Rounds\" title=\"Mike Rounds\">Mike Rounds</a></span></span>, <span class=\"vcard\"><span class=\"fn\"><a href=\"/wiki/Marsha_Blackburn\" title=\"Marsha Blackburn\">Marsha Blackburn</a></span></span>, <span class=\"vcard\"><span class=\"fn\"><a href=\"/wiki/Bill_Hagerty\" title=\"Bill Hagerty\">Bill Hagerty</a></span></span>, <span class=\"vcard\"><span class=\"fn\"><a href=\"/wiki/John_Cornyn\" title=\"John Cornyn\">John Cornyn</a></span></span>, <span class=\"vcard\"><span class=\"fn\"><a href=\"/wiki/Ted_Cruz\" title=\"Ted Cruz\">Ted Cruz</a></span></span>, <span class=\"vcard\"><span class=\"fn\"><a class=\"mw-redirect\" href=\"/wiki/Mike_Lee_(American_politician)\" title=\"Mike Lee (American politician)\">Mike Lee</a></span></span>, <span class=\"vcard\"><span class=\"fn\"><a href=\"/wiki/Mitt_Romney\" title=\"Mitt Romney\">Mitt Romney</a></span></span>, <span class=\"vcard\"><span class=\"fn\"><a href=\"/wiki/Patrick_Leahy\" title=\"Patrick Leahy\">Patrick Leahy</a></span></span>, <span class=\"vcard\"><span class=\"fn\"><a href=\"/wiki/Bernie_Sanders\" title=\"Bernie Sanders\">Bernie Sanders</a></span></span>, <span class=\"vcard\"><span class=\"fn\"><a href=\"/wiki/Mark_Warner\" title=\"Mark Warner\">Mark Warner</a></span></span>, <span class=\"vcard\"><span class=\"fn\"><a href=\"/wiki/Tim_Kaine\" title=\"Tim Kaine\">Tim Kaine</a></span></span>, <span class=\"vcard\"><span class=\"fn\"><a href=\"/wiki/Patty_Murray\" title=\"Patty Murray\">Patty Murray</a></span></span>, <span class=\"vcard\"><span class=\"fn\"><a href=\"/wiki/Maria_Cantwell\" title=\"Maria Cantwell\">Maria Cantwell</a></span></span>, <span class=\"vcard\"><span class=\"fn\"><a href=\"/wiki/Joe_Manchin\" title=\"Joe Manchin\">Joe Manchin</a></span></span>, <span class=\"vcard\"><span class=\"fn\"><a href=\"/wiki/Shelley_Moore_Capito\" title=\"Shelley Moore Capito\">Shelley Moore Capito</a></span></span>, <span class=\"vcard\"><span class=\"fn\"><a href=\"/wiki/Ron_Johnson_(Wisconsin_politician)\" title=\"Ron Johnson (Wisconsin politician)\">Ron Johnson</a></span></span>, <span class=\"vcard\"><span class=\"fn\"><a href=\"/wiki/Tammy_Baldwin\" title=\"Tammy Baldwin\">Tammy Baldwin</a></span></span>, <span class=\"vcard\"><span class=\"fn\"><a href=\"/wiki/John_Barrasso\" title=\"John Barrasso\">John Barrasso</a></span></span>, <span class=\"vcard\"><span class=\"fn\"><a href=\"/wiki/Cynthia_Lummis\" title=\"Cynthia Lummis\">Cynthia Lummis</a></span></span>]\n"
     ]
    }
   ],
   "source": [
    "vcard = all_soup.find_all(class_=\"vcard\")\n",
    "print(vcard)"
   ]
  },
  {
   "cell_type": "code",
   "execution_count": 85,
   "id": "f782ee4e",
   "metadata": {},
   "outputs": [],
   "source": [
    "all_questions_links = [a.a.get('href') for a in all_soup.find_all(class_=\"fn\")]"
   ]
  },
  {
   "cell_type": "code",
   "execution_count": 86,
   "id": "e15ac1e3",
   "metadata": {},
   "outputs": [
    {
     "data": {
      "text/plain": [
       "['/wiki/Kamala_Harris',\n",
       " '/wiki/Patrick_Leahy',\n",
       " '/wiki/Chuck_Schumer',\n",
       " '/wiki/Dick_Durbin',\n",
       " '/wiki/Patty_Murray',\n",
       " '/wiki/Debbie_Stabenow',\n",
       " '/wiki/Mark_Warner',\n",
       " '/wiki/Elizabeth_Warren',\n",
       " '/wiki/Amy_Klobuchar',\n",
       " '/wiki/Bernie_Sanders',\n",
       " '/wiki/Joe_Manchin',\n",
       " '/wiki/Cory_Booker',\n",
       " '/wiki/Tammy_Baldwin',\n",
       " '/wiki/Gary_Peters',\n",
       " '/wiki/Catherine_Cortez_Masto',\n",
       " '/wiki/Jeff_Merkley',\n",
       " '/wiki/Brian_Schatz',\n",
       " '/wiki/Mitch_McConnell',\n",
       " '/wiki/John_Thune',\n",
       " '/wiki/John_Barrasso',\n",
       " '/wiki/Roy_Blunt',\n",
       " '/wiki/Joni_Ernst',\n",
       " '/wiki/Rick_Scott',\n",
       " '/wiki/Mike_Lee_(American_politician)',\n",
       " '/wiki/Mike_Crapo',\n",
       " '/wiki/Chuck_Grassley',\n",
       " '/wiki/Richard_Shelby',\n",
       " '/wiki/Tommy_Tuberville',\n",
       " '/wiki/Lisa_Murkowski',\n",
       " '/wiki/Dan_Sullivan_(U.S._senator)',\n",
       " '/wiki/Kyrsten_Sinema',\n",
       " '/wiki/Mark_Kelly',\n",
       " '/wiki/John_Boozman',\n",
       " '/wiki/Tom_Cotton',\n",
       " '/wiki/Dianne_Feinstein',\n",
       " '/wiki/Alex_Padilla',\n",
       " '/wiki/Michael_Bennet',\n",
       " '/wiki/John_Hickenlooper',\n",
       " '/wiki/Richard_Blumenthal',\n",
       " '/wiki/Chris_Murphy',\n",
       " '/wiki/Tom_Carper',\n",
       " '/wiki/Chris_Coons',\n",
       " '/wiki/Marco_Rubio',\n",
       " '/wiki/Rick_Scott',\n",
       " '/wiki/Jon_Ossoff',\n",
       " '/wiki/Raphael_Warnock',\n",
       " '/wiki/Brian_Schatz',\n",
       " '/wiki/Mazie_Hirono',\n",
       " '/wiki/Mike_Crapo',\n",
       " '/wiki/Jim_Risch',\n",
       " '/wiki/Dick_Durbin',\n",
       " '/wiki/Tammy_Duckworth',\n",
       " '/wiki/Todd_Young',\n",
       " '/wiki/Mike_Braun',\n",
       " '/wiki/Chuck_Grassley',\n",
       " '/wiki/Joni_Ernst',\n",
       " '/wiki/Jerry_Moran',\n",
       " '/wiki/Roger_Marshall_(politician)',\n",
       " '/wiki/Mitch_McConnell',\n",
       " '/wiki/Rand_Paul',\n",
       " '/wiki/Bill_Cassidy',\n",
       " '/wiki/John_Kennedy_(Louisiana_politician)',\n",
       " '/wiki/Susan_Collins',\n",
       " '/wiki/Angus_King',\n",
       " '/wiki/Ben_Cardin',\n",
       " '/wiki/Chris_Van_Hollen',\n",
       " '/wiki/Elizabeth_Warren',\n",
       " '/wiki/Ed_Markey',\n",
       " '/wiki/Debbie_Stabenow',\n",
       " '/wiki/Gary_Peters',\n",
       " '/wiki/Amy_Klobuchar',\n",
       " '/wiki/Tina_Smith',\n",
       " '/wiki/Roger_Wicker',\n",
       " '/wiki/Cindy_Hyde-Smith',\n",
       " '/wiki/Roy_Blunt',\n",
       " '/wiki/Josh_Hawley',\n",
       " '/wiki/Jon_Tester',\n",
       " '/wiki/Steve_Daines',\n",
       " '/wiki/Deb_Fischer',\n",
       " '/wiki/Ben_Sasse',\n",
       " '/wiki/Catherine_Cortez_Masto',\n",
       " '/wiki/Jacky_Rosen',\n",
       " '/wiki/Jeanne_Shaheen',\n",
       " '/wiki/Maggie_Hassan',\n",
       " '/wiki/Bob_Menendez',\n",
       " '/wiki/Cory_Booker',\n",
       " '/wiki/Martin_Heinrich',\n",
       " '/wiki/Ben_Ray_Luj%C3%A1n',\n",
       " '/wiki/Chuck_Schumer',\n",
       " '/wiki/Kirsten_Gillibrand',\n",
       " '/wiki/Richard_Burr',\n",
       " '/wiki/Thom_Tillis',\n",
       " '/wiki/John_Hoeven',\n",
       " '/wiki/Kevin_Cramer',\n",
       " '/wiki/Sherrod_Brown',\n",
       " '/wiki/Rob_Portman',\n",
       " '/wiki/Jim_Inhofe',\n",
       " '/wiki/James_Lankford',\n",
       " '/wiki/Ron_Wyden',\n",
       " '/wiki/Jeff_Merkley',\n",
       " '/wiki/Bob_Casey_Jr.',\n",
       " '/wiki/Pat_Toomey',\n",
       " '/wiki/Jack_Reed_(Rhode_Island_politician)',\n",
       " '/wiki/Sheldon_Whitehouse',\n",
       " '/wiki/Lindsey_Graham',\n",
       " '/wiki/Tim_Scott',\n",
       " '/wiki/John_Thune',\n",
       " '/wiki/Mike_Rounds',\n",
       " '/wiki/Marsha_Blackburn',\n",
       " '/wiki/Bill_Hagerty',\n",
       " '/wiki/John_Cornyn',\n",
       " '/wiki/Ted_Cruz',\n",
       " '/wiki/Mike_Lee_(American_politician)',\n",
       " '/wiki/Mitt_Romney',\n",
       " '/wiki/Patrick_Leahy',\n",
       " '/wiki/Bernie_Sanders',\n",
       " '/wiki/Mark_Warner',\n",
       " '/wiki/Tim_Kaine',\n",
       " '/wiki/Patty_Murray',\n",
       " '/wiki/Maria_Cantwell',\n",
       " '/wiki/Joe_Manchin',\n",
       " '/wiki/Shelley_Moore_Capito',\n",
       " '/wiki/Ron_Johnson_(Wisconsin_politician)',\n",
       " '/wiki/Tammy_Baldwin',\n",
       " '/wiki/John_Barrasso',\n",
       " '/wiki/Cynthia_Lummis']"
      ]
     },
     "execution_count": 86,
     "metadata": {},
     "output_type": "execute_result"
    }
   ],
   "source": [
    "all_questions_links"
   ]
  },
  {
   "cell_type": "code",
   "execution_count": null,
   "id": "5ec9e7dd",
   "metadata": {},
   "outputs": [],
   "source": []
  }
 ],
 "metadata": {
  "kernelspec": {
   "display_name": "Python 3 (ipykernel)",
   "language": "python",
   "name": "python3"
  },
  "language_info": {
   "codemirror_mode": {
    "name": "ipython",
    "version": 3
   },
   "file_extension": ".py",
   "mimetype": "text/x-python",
   "name": "python",
   "nbconvert_exporter": "python",
   "pygments_lexer": "ipython3",
   "version": "3.9.12"
  }
 },
 "nbformat": 4,
 "nbformat_minor": 5
}
