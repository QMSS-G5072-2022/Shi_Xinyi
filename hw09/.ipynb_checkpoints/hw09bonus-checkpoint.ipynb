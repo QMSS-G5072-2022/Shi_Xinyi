{
 "cells": [
  {
   "cell_type": "markdown",
   "id": "0c646dd9",
   "metadata": {},
   "source": [
    "1. Get the HTML"
   ]
  },
  {
   "cell_type": "code",
   "execution_count": 1,
   "id": "c447c29d",
   "metadata": {},
   "outputs": [],
   "source": [
    "import ssl\n",
    "\n",
    "ssl._create_default_https_context = ssl._create_unverified_context"
   ]
  },
  {
   "cell_type": "code",
   "execution_count": 2,
   "id": "94cb4e2f",
   "metadata": {},
   "outputs": [],
   "source": [
    "import pandas as pd \n",
    "df_list = pd.read_html('https://en.wikipedia.org/wiki/Mitch_McConnell')"
   ]
  },
  {
   "cell_type": "markdown",
   "id": "22479575",
   "metadata": {},
   "source": [
    "2.Get the infobox "
   ]
  },
  {
   "cell_type": "markdown",
   "id": "8e369439",
   "metadata": {},
   "source": [
    "The CSS selector of the infobox is class = infobox vcard."
   ]
  },
  {
   "cell_type": "code",
   "execution_count": 3,
   "id": "78724794",
   "metadata": {},
   "outputs": [],
   "source": [
    "import requests\n",
    "from bs4 import BeautifulSoup\n",
    "\n",
    "response = requests.get(\"https://en.wikipedia.org/wiki/Mitch_McConnell\")\n",
    "content = response.content\n",
    "soup = BeautifulSoup(response.content, 'html.parser')"
   ]
  },
  {
   "cell_type": "code",
   "execution_count": 4,
   "id": "8fdd77fe",
   "metadata": {},
   "outputs": [],
   "source": [
    "infobox = soup.find_all(class_=\"infobox\")"
   ]
  },
  {
   "cell_type": "markdown",
   "id": "49913e01",
   "metadata": {},
   "source": [
    "3. Make a dataframe"
   ]
  },
  {
   "cell_type": "code",
   "execution_count": 5,
   "id": "445b8ede",
   "metadata": {},
   "outputs": [],
   "source": [
    "all_keys = [a.text for a in soup.find_all(class_ =\"infobox-label\")]\n",
    "all_keys.insert(0, 'Full Name')\n",
    "\n",
    "full_name = [a.text for a in soup.find_all(class_ = \"fn\")]\n",
    "all_values = [a.text for a in soup.find_all(class_ =\"infobox-data\")]\n",
    "all_values.insert(0, full_name[0])"
   ]
  },
  {
   "cell_type": "code",
   "execution_count": 6,
   "id": "f3293725",
   "metadata": {},
   "outputs": [
    {
     "data": {
      "text/plain": [
       "['Full Name', 'Whip', 'Preceded by', 'Whip', 'Preceded by']"
      ]
     },
     "execution_count": 6,
     "metadata": {},
     "output_type": "execute_result"
    }
   ],
   "source": [
    "all_keys[0:5]"
   ]
  },
  {
   "cell_type": "code",
   "execution_count": 7,
   "id": "e85bcb07",
   "metadata": {},
   "outputs": [
    {
     "data": {
      "text/plain": [
       "['Mitch McConnell',\n",
       " 'John Thune',\n",
       " 'Chuck Schumer',\n",
       " 'Trent LottJon KylJohn Cornyn',\n",
       " 'Harry Reid']"
      ]
     },
     "execution_count": 7,
     "metadata": {},
     "output_type": "execute_result"
    }
   ],
   "source": [
    "all_values[0:5]"
   ]
  },
  {
   "cell_type": "code",
   "execution_count": 8,
   "id": "9a318560",
   "metadata": {},
   "outputs": [
    {
     "data": {
      "text/html": [
       "<div>\n",
       "<style scoped>\n",
       "    .dataframe tbody tr th:only-of-type {\n",
       "        vertical-align: middle;\n",
       "    }\n",
       "\n",
       "    .dataframe tbody tr th {\n",
       "        vertical-align: top;\n",
       "    }\n",
       "\n",
       "    .dataframe thead th {\n",
       "        text-align: right;\n",
       "    }\n",
       "</style>\n",
       "<table border=\"1\" class=\"dataframe\">\n",
       "  <thead>\n",
       "    <tr style=\"text-align: right;\">\n",
       "      <th></th>\n",
       "      <th>key</th>\n",
       "      <th>value</th>\n",
       "    </tr>\n",
       "  </thead>\n",
       "  <tbody>\n",
       "    <tr>\n",
       "      <th>0</th>\n",
       "      <td>Full Name</td>\n",
       "      <td>Mitch McConnell</td>\n",
       "    </tr>\n",
       "    <tr>\n",
       "      <th>1</th>\n",
       "      <td>Whip</td>\n",
       "      <td>John Thune</td>\n",
       "    </tr>\n",
       "    <tr>\n",
       "      <th>2</th>\n",
       "      <td>Preceded by</td>\n",
       "      <td>Chuck Schumer</td>\n",
       "    </tr>\n",
       "    <tr>\n",
       "      <th>3</th>\n",
       "      <td>Whip</td>\n",
       "      <td>Trent LottJon KylJohn Cornyn</td>\n",
       "    </tr>\n",
       "    <tr>\n",
       "      <th>4</th>\n",
       "      <td>Preceded by</td>\n",
       "      <td>Harry Reid</td>\n",
       "    </tr>\n",
       "  </tbody>\n",
       "</table>\n",
       "</div>"
      ],
      "text/plain": [
       "           key                         value\n",
       "0    Full Name               Mitch McConnell\n",
       "1         Whip                    John Thune\n",
       "2  Preceded by                 Chuck Schumer\n",
       "3         Whip  Trent LottJon KylJohn Cornyn\n",
       "4  Preceded by                    Harry Reid"
      ]
     },
     "execution_count": 8,
     "metadata": {},
     "output_type": "execute_result"
    }
   ],
   "source": [
    "df = pd.DataFrame({'key': all_keys, 'value':all_values})\n",
    "df.head()"
   ]
  },
  {
   "cell_type": "code",
   "execution_count": 9,
   "id": "bba44d6a",
   "metadata": {},
   "outputs": [],
   "source": [
    "newdf = df[df.key.isin([\"Full Name\", \"Political party\",\"Children\"])]"
   ]
  },
  {
   "cell_type": "code",
   "execution_count": 10,
   "id": "d5b6524d",
   "metadata": {},
   "outputs": [
    {
     "data": {
      "text/html": [
       "<div>\n",
       "<style scoped>\n",
       "    .dataframe tbody tr th:only-of-type {\n",
       "        vertical-align: middle;\n",
       "    }\n",
       "\n",
       "    .dataframe tbody tr th {\n",
       "        vertical-align: top;\n",
       "    }\n",
       "\n",
       "    .dataframe thead th {\n",
       "        text-align: right;\n",
       "    }\n",
       "</style>\n",
       "<table border=\"1\" class=\"dataframe\">\n",
       "  <thead>\n",
       "    <tr style=\"text-align: right;\">\n",
       "      <th></th>\n",
       "      <th>key</th>\n",
       "      <th>value</th>\n",
       "    </tr>\n",
       "  </thead>\n",
       "  <tbody>\n",
       "    <tr>\n",
       "      <th>0</th>\n",
       "      <td>Full Name</td>\n",
       "      <td>Mitch McConnell</td>\n",
       "    </tr>\n",
       "    <tr>\n",
       "      <th>24</th>\n",
       "      <td>Political party</td>\n",
       "      <td>Republican</td>\n",
       "    </tr>\n",
       "    <tr>\n",
       "      <th>26</th>\n",
       "      <td>Children</td>\n",
       "      <td>3</td>\n",
       "    </tr>\n",
       "  </tbody>\n",
       "</table>\n",
       "</div>"
      ],
      "text/plain": [
       "                key            value\n",
       "0         Full Name  Mitch McConnell\n",
       "24  Political party       Republican\n",
       "26         Children                3"
      ]
     },
     "execution_count": 10,
     "metadata": {},
     "output_type": "execute_result"
    }
   ],
   "source": [
    "newdf"
   ]
  },
  {
   "cell_type": "markdown",
   "id": "659dceba",
   "metadata": {},
   "source": [
    "4. Make a function"
   ]
  },
  {
   "cell_type": "code",
   "execution_count": 11,
   "id": "ec07b457",
   "metadata": {},
   "outputs": [],
   "source": [
    "def get_wiki_info(url):\n",
    "    response = requests.get(url)\n",
    "    content = response.content\n",
    "    soup = BeautifulSoup(response.content, 'html.parser')\n",
    "    \n",
    "    all_keys = [a.text for a in soup.find_all(class_ =\"infobox-label\")]\n",
    "    all_keys.insert(0, 'Full Name')\n",
    "    \n",
    "    full_name = [a.text for a in soup.find_all(class_ = \"fn\")]\n",
    "    all_values = [a.text for a in soup.find_all(class_ =\"infobox-data\")]\n",
    "    all_values.insert(0, full_name[0])\n",
    "    \n",
    "    if \"Children\" in all_keys:\n",
    "        pass\n",
    "    else:\n",
    "        all_keys.append('Children')\n",
    "        all_values.append('NA')\n",
    "        \n",
    "    df = pd.DataFrame({'key': all_keys, 'value':all_values})\n",
    "    newdf = df[df.key.isin([\"Full Name\", \"Political party\",\"Children\"])]\n",
    "    return newdf"
   ]
  },
  {
   "cell_type": "code",
   "execution_count": 12,
   "id": "92d3785d",
   "metadata": {},
   "outputs": [
    {
     "data": {
      "text/html": [
       "<div>\n",
       "<style scoped>\n",
       "    .dataframe tbody tr th:only-of-type {\n",
       "        vertical-align: middle;\n",
       "    }\n",
       "\n",
       "    .dataframe tbody tr th {\n",
       "        vertical-align: top;\n",
       "    }\n",
       "\n",
       "    .dataframe thead th {\n",
       "        text-align: right;\n",
       "    }\n",
       "</style>\n",
       "<table border=\"1\" class=\"dataframe\">\n",
       "  <thead>\n",
       "    <tr style=\"text-align: right;\">\n",
       "      <th></th>\n",
       "      <th>key</th>\n",
       "      <th>value</th>\n",
       "    </tr>\n",
       "  </thead>\n",
       "  <tbody>\n",
       "    <tr>\n",
       "      <th>0</th>\n",
       "      <td>Full Name</td>\n",
       "      <td>Tammy Duckworth</td>\n",
       "    </tr>\n",
       "    <tr>\n",
       "      <th>13</th>\n",
       "      <td>Political party</td>\n",
       "      <td>Democratic</td>\n",
       "    </tr>\n",
       "    <tr>\n",
       "      <th>15</th>\n",
       "      <td>Children</td>\n",
       "      <td>2</td>\n",
       "    </tr>\n",
       "  </tbody>\n",
       "</table>\n",
       "</div>"
      ],
      "text/plain": [
       "                key            value\n",
       "0         Full Name  Tammy Duckworth\n",
       "13  Political party       Democratic\n",
       "15         Children                2"
      ]
     },
     "execution_count": 12,
     "metadata": {},
     "output_type": "execute_result"
    }
   ],
   "source": [
    "get_wiki_info('https://en.wikipedia.org/wiki/Tammy_Duckworth')"
   ]
  },
  {
   "cell_type": "code",
   "execution_count": 13,
   "id": "396e6798",
   "metadata": {},
   "outputs": [
    {
     "data": {
      "text/html": [
       "<div>\n",
       "<style scoped>\n",
       "    .dataframe tbody tr th:only-of-type {\n",
       "        vertical-align: middle;\n",
       "    }\n",
       "\n",
       "    .dataframe tbody tr th {\n",
       "        vertical-align: top;\n",
       "    }\n",
       "\n",
       "    .dataframe thead th {\n",
       "        text-align: right;\n",
       "    }\n",
       "</style>\n",
       "<table border=\"1\" class=\"dataframe\">\n",
       "  <thead>\n",
       "    <tr style=\"text-align: right;\">\n",
       "      <th></th>\n",
       "      <th>key</th>\n",
       "      <th>value</th>\n",
       "    </tr>\n",
       "  </thead>\n",
       "  <tbody>\n",
       "    <tr>\n",
       "      <th>0</th>\n",
       "      <td>Full Name</td>\n",
       "      <td>Susan Collins</td>\n",
       "    </tr>\n",
       "    <tr>\n",
       "      <th>7</th>\n",
       "      <td>Political party</td>\n",
       "      <td>Republican</td>\n",
       "    </tr>\n",
       "    <tr>\n",
       "      <th>13</th>\n",
       "      <td>Children</td>\n",
       "      <td>NA</td>\n",
       "    </tr>\n",
       "  </tbody>\n",
       "</table>\n",
       "</div>"
      ],
      "text/plain": [
       "                key          value\n",
       "0         Full Name  Susan Collins\n",
       "7   Political party     Republican\n",
       "13         Children             NA"
      ]
     },
     "execution_count": 13,
     "metadata": {},
     "output_type": "execute_result"
    }
   ],
   "source": [
    "get_wiki_info('https://en.wikipedia.org/wiki/Susan_Collins')"
   ]
  },
  {
   "cell_type": "markdown",
   "id": "4cf6c0da",
   "metadata": {},
   "source": [
    "5. Get all senators' pages"
   ]
  },
  {
   "cell_type": "code",
   "execution_count": 14,
   "id": "89e267d9",
   "metadata": {},
   "outputs": [],
   "source": [
    "all_request = requests.get(\"https://en.wikipedia.org/wiki/List_of_current_United_States_senators\")\n",
    "all_content = all_request.content\n",
    "all_soup = BeautifulSoup(all_request.content, 'html.parser')"
   ]
  },
  {
   "cell_type": "code",
   "execution_count": 15,
   "id": "fd5ea0e9",
   "metadata": {},
   "outputs": [],
   "source": [
    "vcard = all_soup.find_all(class_=\"vcard\")"
   ]
  },
  {
   "cell_type": "code",
   "execution_count": 16,
   "id": "f782ee4e",
   "metadata": {},
   "outputs": [],
   "source": [
    "all_senators = [a.a.get('href') for a in all_soup.find_all(class_=\"fn\")]"
   ]
  },
  {
   "cell_type": "code",
   "execution_count": 17,
   "id": "e15ac1e3",
   "metadata": {},
   "outputs": [
    {
     "data": {
      "text/plain": [
       "['/wiki/Kamala_Harris',\n",
       " '/wiki/Patrick_Leahy',\n",
       " '/wiki/Chuck_Schumer',\n",
       " '/wiki/Dick_Durbin',\n",
       " '/wiki/Patty_Murray',\n",
       " '/wiki/Debbie_Stabenow',\n",
       " '/wiki/Mark_Warner',\n",
       " '/wiki/Elizabeth_Warren',\n",
       " '/wiki/Amy_Klobuchar',\n",
       " '/wiki/Bernie_Sanders',\n",
       " '/wiki/Joe_Manchin',\n",
       " '/wiki/Cory_Booker',\n",
       " '/wiki/Tammy_Baldwin',\n",
       " '/wiki/Gary_Peters',\n",
       " '/wiki/Catherine_Cortez_Masto',\n",
       " '/wiki/Jeff_Merkley',\n",
       " '/wiki/Brian_Schatz',\n",
       " '/wiki/Mitch_McConnell',\n",
       " '/wiki/John_Thune',\n",
       " '/wiki/John_Barrasso',\n",
       " '/wiki/Roy_Blunt',\n",
       " '/wiki/Joni_Ernst',\n",
       " '/wiki/Rick_Scott',\n",
       " '/wiki/Mike_Lee_(American_politician)',\n",
       " '/wiki/Mike_Crapo',\n",
       " '/wiki/Chuck_Grassley',\n",
       " '/wiki/Richard_Shelby',\n",
       " '/wiki/Tommy_Tuberville',\n",
       " '/wiki/Lisa_Murkowski',\n",
       " '/wiki/Dan_Sullivan_(U.S._senator)',\n",
       " '/wiki/Kyrsten_Sinema',\n",
       " '/wiki/Mark_Kelly',\n",
       " '/wiki/John_Boozman',\n",
       " '/wiki/Tom_Cotton',\n",
       " '/wiki/Dianne_Feinstein',\n",
       " '/wiki/Alex_Padilla',\n",
       " '/wiki/Michael_Bennet',\n",
       " '/wiki/John_Hickenlooper',\n",
       " '/wiki/Richard_Blumenthal',\n",
       " '/wiki/Chris_Murphy',\n",
       " '/wiki/Tom_Carper',\n",
       " '/wiki/Chris_Coons',\n",
       " '/wiki/Marco_Rubio',\n",
       " '/wiki/Rick_Scott',\n",
       " '/wiki/Jon_Ossoff',\n",
       " '/wiki/Raphael_Warnock',\n",
       " '/wiki/Brian_Schatz',\n",
       " '/wiki/Mazie_Hirono',\n",
       " '/wiki/Mike_Crapo',\n",
       " '/wiki/Jim_Risch',\n",
       " '/wiki/Dick_Durbin',\n",
       " '/wiki/Tammy_Duckworth',\n",
       " '/wiki/Todd_Young',\n",
       " '/wiki/Mike_Braun',\n",
       " '/wiki/Chuck_Grassley',\n",
       " '/wiki/Joni_Ernst',\n",
       " '/wiki/Jerry_Moran',\n",
       " '/wiki/Roger_Marshall_(politician)',\n",
       " '/wiki/Mitch_McConnell',\n",
       " '/wiki/Rand_Paul',\n",
       " '/wiki/Bill_Cassidy',\n",
       " '/wiki/John_Kennedy_(Louisiana_politician)',\n",
       " '/wiki/Susan_Collins',\n",
       " '/wiki/Angus_King',\n",
       " '/wiki/Ben_Cardin',\n",
       " '/wiki/Chris_Van_Hollen',\n",
       " '/wiki/Elizabeth_Warren',\n",
       " '/wiki/Ed_Markey',\n",
       " '/wiki/Debbie_Stabenow',\n",
       " '/wiki/Gary_Peters',\n",
       " '/wiki/Amy_Klobuchar',\n",
       " '/wiki/Tina_Smith',\n",
       " '/wiki/Roger_Wicker',\n",
       " '/wiki/Cindy_Hyde-Smith',\n",
       " '/wiki/Roy_Blunt',\n",
       " '/wiki/Josh_Hawley',\n",
       " '/wiki/Jon_Tester',\n",
       " '/wiki/Steve_Daines',\n",
       " '/wiki/Deb_Fischer',\n",
       " '/wiki/Ben_Sasse',\n",
       " '/wiki/Catherine_Cortez_Masto',\n",
       " '/wiki/Jacky_Rosen',\n",
       " '/wiki/Jeanne_Shaheen',\n",
       " '/wiki/Maggie_Hassan',\n",
       " '/wiki/Bob_Menendez',\n",
       " '/wiki/Cory_Booker',\n",
       " '/wiki/Martin_Heinrich',\n",
       " '/wiki/Ben_Ray_Luj%C3%A1n',\n",
       " '/wiki/Chuck_Schumer',\n",
       " '/wiki/Kirsten_Gillibrand',\n",
       " '/wiki/Richard_Burr',\n",
       " '/wiki/Thom_Tillis',\n",
       " '/wiki/John_Hoeven',\n",
       " '/wiki/Kevin_Cramer',\n",
       " '/wiki/Sherrod_Brown',\n",
       " '/wiki/Rob_Portman',\n",
       " '/wiki/Jim_Inhofe',\n",
       " '/wiki/James_Lankford',\n",
       " '/wiki/Ron_Wyden',\n",
       " '/wiki/Jeff_Merkley',\n",
       " '/wiki/Bob_Casey_Jr.',\n",
       " '/wiki/Pat_Toomey',\n",
       " '/wiki/Jack_Reed_(Rhode_Island_politician)',\n",
       " '/wiki/Sheldon_Whitehouse',\n",
       " '/wiki/Lindsey_Graham',\n",
       " '/wiki/Tim_Scott',\n",
       " '/wiki/John_Thune',\n",
       " '/wiki/Mike_Rounds',\n",
       " '/wiki/Marsha_Blackburn',\n",
       " '/wiki/Bill_Hagerty',\n",
       " '/wiki/John_Cornyn',\n",
       " '/wiki/Ted_Cruz',\n",
       " '/wiki/Mike_Lee_(American_politician)',\n",
       " '/wiki/Mitt_Romney',\n",
       " '/wiki/Patrick_Leahy',\n",
       " '/wiki/Bernie_Sanders',\n",
       " '/wiki/Mark_Warner',\n",
       " '/wiki/Tim_Kaine',\n",
       " '/wiki/Patty_Murray',\n",
       " '/wiki/Maria_Cantwell',\n",
       " '/wiki/Joe_Manchin',\n",
       " '/wiki/Shelley_Moore_Capito',\n",
       " '/wiki/Ron_Johnson_(Wisconsin_politician)',\n",
       " '/wiki/Tammy_Baldwin',\n",
       " '/wiki/John_Barrasso',\n",
       " '/wiki/Cynthia_Lummis']"
      ]
     },
     "execution_count": 17,
     "metadata": {},
     "output_type": "execute_result"
    }
   ],
   "source": [
    "all_senators"
   ]
  },
  {
   "cell_type": "code",
   "execution_count": 18,
   "id": "5ec9e7dd",
   "metadata": {},
   "outputs": [],
   "source": [
    "all_senators_links = ['https://en.wikipedia.org'+ i for i in all_senators]"
   ]
  },
  {
   "cell_type": "code",
   "execution_count": 19,
   "id": "727c6f48",
   "metadata": {
    "scrolled": false
   },
   "outputs": [
    {
     "data": {
      "text/plain": [
       "['https://en.wikipedia.org/wiki/Kamala_Harris',\n",
       " 'https://en.wikipedia.org/wiki/Patrick_Leahy',\n",
       " 'https://en.wikipedia.org/wiki/Chuck_Schumer',\n",
       " 'https://en.wikipedia.org/wiki/Dick_Durbin',\n",
       " 'https://en.wikipedia.org/wiki/Patty_Murray',\n",
       " 'https://en.wikipedia.org/wiki/Debbie_Stabenow',\n",
       " 'https://en.wikipedia.org/wiki/Mark_Warner',\n",
       " 'https://en.wikipedia.org/wiki/Elizabeth_Warren',\n",
       " 'https://en.wikipedia.org/wiki/Amy_Klobuchar',\n",
       " 'https://en.wikipedia.org/wiki/Bernie_Sanders',\n",
       " 'https://en.wikipedia.org/wiki/Joe_Manchin',\n",
       " 'https://en.wikipedia.org/wiki/Cory_Booker',\n",
       " 'https://en.wikipedia.org/wiki/Tammy_Baldwin',\n",
       " 'https://en.wikipedia.org/wiki/Gary_Peters',\n",
       " 'https://en.wikipedia.org/wiki/Catherine_Cortez_Masto',\n",
       " 'https://en.wikipedia.org/wiki/Jeff_Merkley',\n",
       " 'https://en.wikipedia.org/wiki/Brian_Schatz',\n",
       " 'https://en.wikipedia.org/wiki/Mitch_McConnell',\n",
       " 'https://en.wikipedia.org/wiki/John_Thune',\n",
       " 'https://en.wikipedia.org/wiki/John_Barrasso',\n",
       " 'https://en.wikipedia.org/wiki/Roy_Blunt',\n",
       " 'https://en.wikipedia.org/wiki/Joni_Ernst',\n",
       " 'https://en.wikipedia.org/wiki/Rick_Scott',\n",
       " 'https://en.wikipedia.org/wiki/Mike_Lee_(American_politician)',\n",
       " 'https://en.wikipedia.org/wiki/Mike_Crapo',\n",
       " 'https://en.wikipedia.org/wiki/Chuck_Grassley',\n",
       " 'https://en.wikipedia.org/wiki/Richard_Shelby',\n",
       " 'https://en.wikipedia.org/wiki/Tommy_Tuberville',\n",
       " 'https://en.wikipedia.org/wiki/Lisa_Murkowski',\n",
       " 'https://en.wikipedia.org/wiki/Dan_Sullivan_(U.S._senator)',\n",
       " 'https://en.wikipedia.org/wiki/Kyrsten_Sinema',\n",
       " 'https://en.wikipedia.org/wiki/Mark_Kelly',\n",
       " 'https://en.wikipedia.org/wiki/John_Boozman',\n",
       " 'https://en.wikipedia.org/wiki/Tom_Cotton',\n",
       " 'https://en.wikipedia.org/wiki/Dianne_Feinstein',\n",
       " 'https://en.wikipedia.org/wiki/Alex_Padilla',\n",
       " 'https://en.wikipedia.org/wiki/Michael_Bennet',\n",
       " 'https://en.wikipedia.org/wiki/John_Hickenlooper',\n",
       " 'https://en.wikipedia.org/wiki/Richard_Blumenthal',\n",
       " 'https://en.wikipedia.org/wiki/Chris_Murphy',\n",
       " 'https://en.wikipedia.org/wiki/Tom_Carper',\n",
       " 'https://en.wikipedia.org/wiki/Chris_Coons',\n",
       " 'https://en.wikipedia.org/wiki/Marco_Rubio',\n",
       " 'https://en.wikipedia.org/wiki/Rick_Scott',\n",
       " 'https://en.wikipedia.org/wiki/Jon_Ossoff',\n",
       " 'https://en.wikipedia.org/wiki/Raphael_Warnock',\n",
       " 'https://en.wikipedia.org/wiki/Brian_Schatz',\n",
       " 'https://en.wikipedia.org/wiki/Mazie_Hirono',\n",
       " 'https://en.wikipedia.org/wiki/Mike_Crapo',\n",
       " 'https://en.wikipedia.org/wiki/Jim_Risch',\n",
       " 'https://en.wikipedia.org/wiki/Dick_Durbin',\n",
       " 'https://en.wikipedia.org/wiki/Tammy_Duckworth',\n",
       " 'https://en.wikipedia.org/wiki/Todd_Young',\n",
       " 'https://en.wikipedia.org/wiki/Mike_Braun',\n",
       " 'https://en.wikipedia.org/wiki/Chuck_Grassley',\n",
       " 'https://en.wikipedia.org/wiki/Joni_Ernst',\n",
       " 'https://en.wikipedia.org/wiki/Jerry_Moran',\n",
       " 'https://en.wikipedia.org/wiki/Roger_Marshall_(politician)',\n",
       " 'https://en.wikipedia.org/wiki/Mitch_McConnell',\n",
       " 'https://en.wikipedia.org/wiki/Rand_Paul',\n",
       " 'https://en.wikipedia.org/wiki/Bill_Cassidy',\n",
       " 'https://en.wikipedia.org/wiki/John_Kennedy_(Louisiana_politician)',\n",
       " 'https://en.wikipedia.org/wiki/Susan_Collins',\n",
       " 'https://en.wikipedia.org/wiki/Angus_King',\n",
       " 'https://en.wikipedia.org/wiki/Ben_Cardin',\n",
       " 'https://en.wikipedia.org/wiki/Chris_Van_Hollen',\n",
       " 'https://en.wikipedia.org/wiki/Elizabeth_Warren',\n",
       " 'https://en.wikipedia.org/wiki/Ed_Markey',\n",
       " 'https://en.wikipedia.org/wiki/Debbie_Stabenow',\n",
       " 'https://en.wikipedia.org/wiki/Gary_Peters',\n",
       " 'https://en.wikipedia.org/wiki/Amy_Klobuchar',\n",
       " 'https://en.wikipedia.org/wiki/Tina_Smith',\n",
       " 'https://en.wikipedia.org/wiki/Roger_Wicker',\n",
       " 'https://en.wikipedia.org/wiki/Cindy_Hyde-Smith',\n",
       " 'https://en.wikipedia.org/wiki/Roy_Blunt',\n",
       " 'https://en.wikipedia.org/wiki/Josh_Hawley',\n",
       " 'https://en.wikipedia.org/wiki/Jon_Tester',\n",
       " 'https://en.wikipedia.org/wiki/Steve_Daines',\n",
       " 'https://en.wikipedia.org/wiki/Deb_Fischer',\n",
       " 'https://en.wikipedia.org/wiki/Ben_Sasse',\n",
       " 'https://en.wikipedia.org/wiki/Catherine_Cortez_Masto',\n",
       " 'https://en.wikipedia.org/wiki/Jacky_Rosen',\n",
       " 'https://en.wikipedia.org/wiki/Jeanne_Shaheen',\n",
       " 'https://en.wikipedia.org/wiki/Maggie_Hassan',\n",
       " 'https://en.wikipedia.org/wiki/Bob_Menendez',\n",
       " 'https://en.wikipedia.org/wiki/Cory_Booker',\n",
       " 'https://en.wikipedia.org/wiki/Martin_Heinrich',\n",
       " 'https://en.wikipedia.org/wiki/Ben_Ray_Luj%C3%A1n',\n",
       " 'https://en.wikipedia.org/wiki/Chuck_Schumer',\n",
       " 'https://en.wikipedia.org/wiki/Kirsten_Gillibrand',\n",
       " 'https://en.wikipedia.org/wiki/Richard_Burr',\n",
       " 'https://en.wikipedia.org/wiki/Thom_Tillis',\n",
       " 'https://en.wikipedia.org/wiki/John_Hoeven',\n",
       " 'https://en.wikipedia.org/wiki/Kevin_Cramer',\n",
       " 'https://en.wikipedia.org/wiki/Sherrod_Brown',\n",
       " 'https://en.wikipedia.org/wiki/Rob_Portman',\n",
       " 'https://en.wikipedia.org/wiki/Jim_Inhofe',\n",
       " 'https://en.wikipedia.org/wiki/James_Lankford',\n",
       " 'https://en.wikipedia.org/wiki/Ron_Wyden',\n",
       " 'https://en.wikipedia.org/wiki/Jeff_Merkley',\n",
       " 'https://en.wikipedia.org/wiki/Bob_Casey_Jr.',\n",
       " 'https://en.wikipedia.org/wiki/Pat_Toomey',\n",
       " 'https://en.wikipedia.org/wiki/Jack_Reed_(Rhode_Island_politician)',\n",
       " 'https://en.wikipedia.org/wiki/Sheldon_Whitehouse',\n",
       " 'https://en.wikipedia.org/wiki/Lindsey_Graham',\n",
       " 'https://en.wikipedia.org/wiki/Tim_Scott',\n",
       " 'https://en.wikipedia.org/wiki/John_Thune',\n",
       " 'https://en.wikipedia.org/wiki/Mike_Rounds',\n",
       " 'https://en.wikipedia.org/wiki/Marsha_Blackburn',\n",
       " 'https://en.wikipedia.org/wiki/Bill_Hagerty',\n",
       " 'https://en.wikipedia.org/wiki/John_Cornyn',\n",
       " 'https://en.wikipedia.org/wiki/Ted_Cruz',\n",
       " 'https://en.wikipedia.org/wiki/Mike_Lee_(American_politician)',\n",
       " 'https://en.wikipedia.org/wiki/Mitt_Romney',\n",
       " 'https://en.wikipedia.org/wiki/Patrick_Leahy',\n",
       " 'https://en.wikipedia.org/wiki/Bernie_Sanders',\n",
       " 'https://en.wikipedia.org/wiki/Mark_Warner',\n",
       " 'https://en.wikipedia.org/wiki/Tim_Kaine',\n",
       " 'https://en.wikipedia.org/wiki/Patty_Murray',\n",
       " 'https://en.wikipedia.org/wiki/Maria_Cantwell',\n",
       " 'https://en.wikipedia.org/wiki/Joe_Manchin',\n",
       " 'https://en.wikipedia.org/wiki/Shelley_Moore_Capito',\n",
       " 'https://en.wikipedia.org/wiki/Ron_Johnson_(Wisconsin_politician)',\n",
       " 'https://en.wikipedia.org/wiki/Tammy_Baldwin',\n",
       " 'https://en.wikipedia.org/wiki/John_Barrasso',\n",
       " 'https://en.wikipedia.org/wiki/Cynthia_Lummis']"
      ]
     },
     "execution_count": 19,
     "metadata": {},
     "output_type": "execute_result"
    }
   ],
   "source": [
    "all_senators_links"
   ]
  },
  {
   "cell_type": "markdown",
   "id": "53ddfbca",
   "metadata": {},
   "source": [
    "Average Number of Children"
   ]
  },
  {
   "cell_type": "code",
   "execution_count": 20,
   "id": "f7aab93f",
   "metadata": {},
   "outputs": [],
   "source": [
    "all_senators = []\n",
    "for i in all_senators_links:\n",
    "    senator = get_wiki_info(i)\n",
    "    all_senators.append(senator)\n",
    "all_senators = pd.concat(all_senators)"
   ]
  },
  {
   "cell_type": "code",
   "execution_count": 21,
   "id": "5d00ebfa",
   "metadata": {},
   "outputs": [],
   "source": [
    "all_children = all_senators.loc[all_senators['key'] == 'Children']\n",
    "children=all_children.fillna(0)"
   ]
  },
  {
   "cell_type": "code",
   "execution_count": 22,
   "id": "02252b39",
   "metadata": {},
   "outputs": [
    {
     "data": {
      "text/html": [
       "<div>\n",
       "<style scoped>\n",
       "    .dataframe tbody tr th:only-of-type {\n",
       "        vertical-align: middle;\n",
       "    }\n",
       "\n",
       "    .dataframe tbody tr th {\n",
       "        vertical-align: top;\n",
       "    }\n",
       "\n",
       "    .dataframe thead th {\n",
       "        text-align: right;\n",
       "    }\n",
       "</style>\n",
       "<table border=\"1\" class=\"dataframe\">\n",
       "  <thead>\n",
       "    <tr style=\"text-align: right;\">\n",
       "      <th></th>\n",
       "      <th>key</th>\n",
       "      <th>value</th>\n",
       "      <th>number</th>\n",
       "      <th>Children Number</th>\n",
       "    </tr>\n",
       "  </thead>\n",
       "  <tbody>\n",
       "    <tr>\n",
       "      <th>20</th>\n",
       "      <td>Children</td>\n",
       "      <td>NA</td>\n",
       "      <td>0</td>\n",
       "      <td>0</td>\n",
       "    </tr>\n",
       "    <tr>\n",
       "      <th>21</th>\n",
       "      <td>Children</td>\n",
       "      <td>3</td>\n",
       "      <td>3</td>\n",
       "      <td>3</td>\n",
       "    </tr>\n",
       "    <tr>\n",
       "      <th>28</th>\n",
       "      <td>Children</td>\n",
       "      <td>2</td>\n",
       "      <td>2</td>\n",
       "      <td>2</td>\n",
       "    </tr>\n",
       "    <tr>\n",
       "      <th>19</th>\n",
       "      <td>Children</td>\n",
       "      <td>3[note 1]</td>\n",
       "      <td>3</td>\n",
       "      <td>3</td>\n",
       "    </tr>\n",
       "    <tr>\n",
       "      <th>21</th>\n",
       "      <td>Children</td>\n",
       "      <td>2</td>\n",
       "      <td>2</td>\n",
       "      <td>2</td>\n",
       "    </tr>\n",
       "  </tbody>\n",
       "</table>\n",
       "</div>"
      ],
      "text/plain": [
       "         key      value number  Children Number\n",
       "20  Children         NA      0                0\n",
       "21  Children          3      3                3\n",
       "28  Children          2      2                2\n",
       "19  Children  3[note 1]      3                3\n",
       "21  Children          2      2                2"
      ]
     },
     "execution_count": 22,
     "metadata": {},
     "output_type": "execute_result"
    }
   ],
   "source": [
    "children['number']=children['value'].str.extract(r\"^(\\d+)\")\n",
    "children_new=children.fillna(0)\n",
    "children_new['Children Number'] = children_new['number'].astype(int)\n",
    "children_new.head()"
   ]
  },
  {
   "cell_type": "code",
   "execution_count": 23,
   "id": "69d983f3",
   "metadata": {},
   "outputs": [
    {
     "data": {
      "text/plain": [
       "2.2936507936507935"
      ]
     },
     "execution_count": 23,
     "metadata": {},
     "output_type": "execute_result"
    }
   ],
   "source": [
    "children_new['Children Number'].mean()"
   ]
  },
  {
   "cell_type": "markdown",
   "id": "ce85b9de",
   "metadata": {},
   "source": [
    "The average number of children that a senator has is 2 after rounding."
   ]
  },
  {
   "cell_type": "markdown",
   "id": "e01f427b",
   "metadata": {},
   "source": [
    "Political Party"
   ]
  },
  {
   "cell_type": "code",
   "execution_count": 24,
   "id": "e15676a1",
   "metadata": {},
   "outputs": [
    {
     "data": {
      "text/html": [
       "<div>\n",
       "<style scoped>\n",
       "    .dataframe tbody tr th:only-of-type {\n",
       "        vertical-align: middle;\n",
       "    }\n",
       "\n",
       "    .dataframe tbody tr th {\n",
       "        vertical-align: top;\n",
       "    }\n",
       "\n",
       "    .dataframe thead th {\n",
       "        text-align: right;\n",
       "    }\n",
       "</style>\n",
       "<table border=\"1\" class=\"dataframe\">\n",
       "  <thead>\n",
       "    <tr style=\"text-align: right;\">\n",
       "      <th></th>\n",
       "      <th>key</th>\n",
       "      <th>value</th>\n",
       "    </tr>\n",
       "  </thead>\n",
       "  <tbody>\n",
       "    <tr>\n",
       "      <th>11</th>\n",
       "      <td>Political party</td>\n",
       "      <td>Democratic</td>\n",
       "    </tr>\n",
       "    <tr>\n",
       "      <th>19</th>\n",
       "      <td>Political party</td>\n",
       "      <td>Democratic</td>\n",
       "    </tr>\n",
       "    <tr>\n",
       "      <th>26</th>\n",
       "      <td>Political party</td>\n",
       "      <td>Democratic</td>\n",
       "    </tr>\n",
       "    <tr>\n",
       "      <th>17</th>\n",
       "      <td>Political party</td>\n",
       "      <td>Democratic</td>\n",
       "    </tr>\n",
       "    <tr>\n",
       "      <th>19</th>\n",
       "      <td>Political party</td>\n",
       "      <td>Democratic</td>\n",
       "    </tr>\n",
       "    <tr>\n",
       "      <th>23</th>\n",
       "      <td>Political party</td>\n",
       "      <td>Democratic</td>\n",
       "    </tr>\n",
       "    <tr>\n",
       "      <th>15</th>\n",
       "      <td>Political party</td>\n",
       "      <td>Democratic</td>\n",
       "    </tr>\n",
       "    <tr>\n",
       "      <th>11</th>\n",
       "      <td>Political party</td>\n",
       "      <td>Democratic (1996–present)</td>\n",
       "    </tr>\n",
       "    <tr>\n",
       "      <th>6</th>\n",
       "      <td>Political party</td>\n",
       "      <td>Democratic</td>\n",
       "    </tr>\n",
       "    <tr>\n",
       "      <th>12</th>\n",
       "      <td>Political party</td>\n",
       "      <td>\\nIndependent[a] (1978–present)\\nDemocratic[b]...</td>\n",
       "    </tr>\n",
       "  </tbody>\n",
       "</table>\n",
       "</div>"
      ],
      "text/plain": [
       "                key                                              value\n",
       "11  Political party                                         Democratic\n",
       "19  Political party                                         Democratic\n",
       "26  Political party                                         Democratic\n",
       "17  Political party                                         Democratic\n",
       "19  Political party                                         Democratic\n",
       "23  Political party                                         Democratic\n",
       "15  Political party                                         Democratic\n",
       "11  Political party                          Democratic (1996–present)\n",
       "6   Political party                                         Democratic\n",
       "12  Political party  \\nIndependent[a] (1978–present)\\nDemocratic[b]..."
      ]
     },
     "execution_count": 24,
     "metadata": {},
     "output_type": "execute_result"
    }
   ],
   "source": [
    "all_party = all_senators.loc[all_senators['key'] == 'Political party']\n",
    "party=all_party.fillna(0)\n",
    "party.head(10)"
   ]
  },
  {
   "cell_type": "code",
   "execution_count": 25,
   "id": "8dc90a23",
   "metadata": {},
   "outputs": [
    {
     "data": {
      "text/html": [
       "<div>\n",
       "<style scoped>\n",
       "    .dataframe tbody tr th:only-of-type {\n",
       "        vertical-align: middle;\n",
       "    }\n",
       "\n",
       "    .dataframe tbody tr th {\n",
       "        vertical-align: top;\n",
       "    }\n",
       "\n",
       "    .dataframe thead th {\n",
       "        text-align: right;\n",
       "    }\n",
       "</style>\n",
       "<table border=\"1\" class=\"dataframe\">\n",
       "  <thead>\n",
       "    <tr style=\"text-align: right;\">\n",
       "      <th></th>\n",
       "      <th>key</th>\n",
       "      <th>value</th>\n",
       "      <th>affiliation</th>\n",
       "    </tr>\n",
       "  </thead>\n",
       "  <tbody>\n",
       "    <tr>\n",
       "      <th>12</th>\n",
       "      <td>Political party</td>\n",
       "      <td>\\nIndependent[a] (1978–present)\\nDemocratic[b]...</td>\n",
       "      <td>Democratic</td>\n",
       "    </tr>\n",
       "    <tr>\n",
       "      <th>12</th>\n",
       "      <td>Political party</td>\n",
       "      <td>\\nIndependent[a] (1978–present)\\nDemocratic[b]...</td>\n",
       "      <td>Democratic</td>\n",
       "    </tr>\n",
       "    <tr>\n",
       "      <th>11</th>\n",
       "      <td>Political party</td>\n",
       "      <td>Democratic</td>\n",
       "      <td>Democratic</td>\n",
       "    </tr>\n",
       "    <tr>\n",
       "      <th>7</th>\n",
       "      <td>Political party</td>\n",
       "      <td>Democratic</td>\n",
       "      <td>Democratic</td>\n",
       "    </tr>\n",
       "    <tr>\n",
       "      <th>12</th>\n",
       "      <td>Political party</td>\n",
       "      <td>Democratic</td>\n",
       "      <td>Democratic</td>\n",
       "    </tr>\n",
       "    <tr>\n",
       "      <th>...</th>\n",
       "      <td>...</td>\n",
       "      <td>...</td>\n",
       "      <td>...</td>\n",
       "    </tr>\n",
       "    <tr>\n",
       "      <th>20</th>\n",
       "      <td>Political party</td>\n",
       "      <td>Republican (1994–present)</td>\n",
       "      <td>Republican</td>\n",
       "    </tr>\n",
       "    <tr>\n",
       "      <th>10</th>\n",
       "      <td>Political party</td>\n",
       "      <td>Republican (1998–present)</td>\n",
       "      <td>Republican</td>\n",
       "    </tr>\n",
       "    <tr>\n",
       "      <th>8</th>\n",
       "      <td>Political party</td>\n",
       "      <td>Republican (2010–present)</td>\n",
       "      <td>Republican</td>\n",
       "    </tr>\n",
       "    <tr>\n",
       "      <th>5</th>\n",
       "      <td>Political party</td>\n",
       "      <td>Republican (2012–present)</td>\n",
       "      <td>Republican</td>\n",
       "    </tr>\n",
       "    <tr>\n",
       "      <th>8</th>\n",
       "      <td>Political party</td>\n",
       "      <td>Republican (since 2007)</td>\n",
       "      <td>Republican</td>\n",
       "    </tr>\n",
       "  </tbody>\n",
       "</table>\n",
       "<p>126 rows × 3 columns</p>\n",
       "</div>"
      ],
      "text/plain": [
       "                key                                              value  \\\n",
       "12  Political party  \\nIndependent[a] (1978–present)\\nDemocratic[b]...   \n",
       "12  Political party  \\nIndependent[a] (1978–present)\\nDemocratic[b]...   \n",
       "11  Political party                                         Democratic   \n",
       "7   Political party                                         Democratic   \n",
       "12  Political party                                         Democratic   \n",
       "..              ...                                                ...   \n",
       "20  Political party                          Republican (1994–present)   \n",
       "10  Political party                          Republican (1998–present)   \n",
       "8   Political party                          Republican (2010–present)   \n",
       "5   Political party                          Republican (2012–present)   \n",
       "8   Political party                            Republican (since 2007)   \n",
       "\n",
       "   affiliation  \n",
       "12  Democratic  \n",
       "12  Democratic  \n",
       "11  Democratic  \n",
       "7   Democratic  \n",
       "12  Democratic  \n",
       "..         ...  \n",
       "20  Republican  \n",
       "10  Republican  \n",
       "8   Republican  \n",
       "5   Republican  \n",
       "8   Republican  \n",
       "\n",
       "[126 rows x 3 columns]"
      ]
     },
     "execution_count": 25,
     "metadata": {},
     "output_type": "execute_result"
    }
   ],
   "source": [
    "party['affiliation']= party['value'].str.extract(r\"\\b(Democratic|Republican)\\b\")\n",
    "party.sort_values(by=['value'])"
   ]
  },
  {
   "cell_type": "code",
   "execution_count": 26,
   "id": "cf91004f",
   "metadata": {},
   "outputs": [
    {
     "data": {
      "text/plain": [
       "affiliation\n",
       "Democratic    66\n",
       "Republican    59\n",
       "Name: affiliation, dtype: int64"
      ]
     },
     "execution_count": 26,
     "metadata": {},
     "output_type": "execute_result"
    }
   ],
   "source": [
    "affiliation = party.groupby(['affiliation'])['affiliation'].count()\n",
    "affiliation"
   ]
  },
  {
   "cell_type": "markdown",
   "id": "ec4e693f",
   "metadata": {},
   "source": [
    "There are 66 senators of Democratic party and 59 senators in Republican party."
   ]
  }
 ],
 "metadata": {
  "kernelspec": {
   "display_name": "Python 3 (ipykernel)",
   "language": "python",
   "name": "python3"
  },
  "language_info": {
   "codemirror_mode": {
    "name": "ipython",
    "version": 3
   },
   "file_extension": ".py",
   "mimetype": "text/x-python",
   "name": "python",
   "nbconvert_exporter": "python",
   "pygments_lexer": "ipython3",
   "version": "3.9.12"
  }
 },
 "nbformat": 4,
 "nbformat_minor": 5
}
